{
 "cells": [
  {
   "cell_type": "code",
   "execution_count": 1,
   "id": "bd0e54d5",
   "metadata": {
    "_cell_guid": "b1076dfc-b9ad-4769-8c92-a6c4dae69d19",
    "_uuid": "8f2839f25d086af736a60e9eeb907d3b93b6e0e5",
    "execution": {
     "iopub.execute_input": "2024-02-18T19:06:01.062045Z",
     "iopub.status.busy": "2024-02-18T19:06:01.061609Z",
     "iopub.status.idle": "2024-02-18T19:06:02.979533Z",
     "shell.execute_reply": "2024-02-18T19:06:02.978763Z"
    },
    "papermill": {
     "duration": 1.930561,
     "end_time": "2024-02-18T19:06:02.981976",
     "exception": false,
     "start_time": "2024-02-18T19:06:01.051415",
     "status": "completed"
    },
    "tags": []
   },
   "outputs": [],
   "source": [
    "import numpy as np # linear algebra\n",
    "import pandas as pd # data processing, CSV file I/O (e.g. pd.read_csv)\n",
    "import seaborn as sns \n",
    "import matplotlib.pyplot as plt"
   ]
  },
  {
   "cell_type": "code",
   "execution_count": 2,
   "id": "aecc7034",
   "metadata": {
    "execution": {
     "iopub.execute_input": "2024-02-18T19:06:02.999194Z",
     "iopub.status.busy": "2024-02-18T19:06:02.998719Z",
     "iopub.status.idle": "2024-02-18T19:06:03.003070Z",
     "shell.execute_reply": "2024-02-18T19:06:03.002065Z"
    },
    "papermill": {
     "duration": 0.015114,
     "end_time": "2024-02-18T19:06:03.005106",
     "exception": false,
     "start_time": "2024-02-18T19:06:02.989992",
     "status": "completed"
    },
    "tags": []
   },
   "outputs": [],
   "source": [
    "path  = '/kaggle/input/open-university-learning-analytics-dataset/'"
   ]
  },
  {
   "cell_type": "code",
   "execution_count": 3,
   "id": "67fb615d",
   "metadata": {
    "execution": {
     "iopub.execute_input": "2024-02-18T19:06:03.022435Z",
     "iopub.status.busy": "2024-02-18T19:06:03.022102Z",
     "iopub.status.idle": "2024-02-18T19:06:03.036681Z",
     "shell.execute_reply": "2024-02-18T19:06:03.035753Z"
    },
    "papermill": {
     "duration": 0.025947,
     "end_time": "2024-02-18T19:06:03.038850",
     "exception": false,
     "start_time": "2024-02-18T19:06:03.012903",
     "status": "completed"
    },
    "tags": []
   },
   "outputs": [
    {
     "name": "stdout",
     "output_type": "stream",
     "text": [
      "/kaggle/input/open-university-learning-analytics-dataset/studentRegistration.csv\n",
      "/kaggle/input/open-university-learning-analytics-dataset/studentAssessment.csv\n",
      "/kaggle/input/open-university-learning-analytics-dataset/studentInfo.csv\n",
      "/kaggle/input/open-university-learning-analytics-dataset/studentVle.csv\n",
      "/kaggle/input/open-university-learning-analytics-dataset/vle.csv\n",
      "/kaggle/input/open-university-learning-analytics-dataset/assessments.csv\n",
      "/kaggle/input/open-university-learning-analytics-dataset/courses.csv\n",
      "/kaggle/input/open-university-learning-analytics-dataset/anonymiseddata/studentRegistration.csv\n",
      "/kaggle/input/open-university-learning-analytics-dataset/anonymiseddata/studentAssessment.csv\n",
      "/kaggle/input/open-university-learning-analytics-dataset/anonymiseddata/studentInfo.csv\n",
      "/kaggle/input/open-university-learning-analytics-dataset/anonymiseddata/studentVle.csv\n",
      "/kaggle/input/open-university-learning-analytics-dataset/anonymiseddata/vle.csv\n",
      "/kaggle/input/open-university-learning-analytics-dataset/anonymiseddata/assessments.csv\n",
      "/kaggle/input/open-university-learning-analytics-dataset/anonymiseddata/courses.csv\n"
     ]
    }
   ],
   "source": [
    "# For Kaggle Only, \n",
    "# Comment out if you are not using Kaggle\n",
    "import os\n",
    "for dirname, _, filenames in os.walk('/kaggle/input'):\n",
    "    for filename in filenames:\n",
    "        print(os.path.join(dirname, filename))"
   ]
  },
  {
   "cell_type": "code",
   "execution_count": 4,
   "id": "ec7b7637",
   "metadata": {
    "execution": {
     "iopub.execute_input": "2024-02-18T19:06:03.056527Z",
     "iopub.status.busy": "2024-02-18T19:06:03.055791Z",
     "iopub.status.idle": "2024-02-18T19:06:03.340033Z",
     "shell.execute_reply": "2024-02-18T19:06:03.339017Z"
    },
    "papermill": {
     "duration": 0.295836,
     "end_time": "2024-02-18T19:06:03.342633",
     "exception": false,
     "start_time": "2024-02-18T19:06:03.046797",
     "status": "completed"
    },
    "tags": []
   },
   "outputs": [],
   "source": [
    "assessments = pd.read_csv('{}assessments.csv'.format(path))\n",
    "courses = pd.read_csv('{}courses.csv'.format(path))\n",
    "student_assessments = pd.read_csv('{}studentAssessment.csv'.format(path))\n",
    "student_info = pd.read_csv('{}studentInfo.csv'.format(path))\n",
    "registration = pd.read_csv('{}studentRegistration.csv'.format(path))\n",
    "\n",
    "\n",
    "datasets = {\n",
    "    'assessments':assessments,\n",
    "    'courses':courses,\n",
    "    'student_assessments':student_assessments,\n",
    "    'student_info':student_info,\n",
    "    'registration':registration,\n",
    "    }\n"
   ]
  },
  {
   "cell_type": "code",
   "execution_count": 5,
   "id": "bb79b9e3",
   "metadata": {
    "execution": {
     "iopub.execute_input": "2024-02-18T19:06:03.360479Z",
     "iopub.status.busy": "2024-02-18T19:06:03.359868Z",
     "iopub.status.idle": "2024-02-18T19:06:03.405824Z",
     "shell.execute_reply": "2024-02-18T19:06:03.404810Z"
    },
    "papermill": {
     "duration": 0.057851,
     "end_time": "2024-02-18T19:06:03.408597",
     "exception": false,
     "start_time": "2024-02-18T19:06:03.350746",
     "status": "completed"
    },
    "tags": []
   },
   "outputs": [
    {
     "name": "stdout",
     "output_type": "stream",
     "text": [
      "assessments.head()\n",
      "  code_module code_presentation  id_assessment assessment_type   date  weight\n",
      "0         AAA             2013J           1752             TMA   19.0    10.0\n",
      "1         AAA             2013J           1753             TMA   54.0    20.0\n",
      "2         AAA             2013J           1754             TMA  117.0    20.0\n",
      "3         AAA             2013J           1755             TMA  166.0    20.0\n",
      "4         AAA             2013J           1756             TMA  215.0    30.0\n",
      "assessments.shape\n",
      "(206, 6)\n",
      "\n",
      "assessments.describe()\n",
      "       code_module code_presentation  id_assessment assessment_type  \\\n",
      "count          206               206     206.000000             206   \n",
      "unique           7                 4            NaN               3   \n",
      "top            FFF             2014J            NaN             TMA   \n",
      "freq            52                57            NaN             106   \n",
      "mean           NaN               NaN   26473.975728             NaN   \n",
      "std            NaN               NaN   10098.625521             NaN   \n",
      "min            NaN               NaN    1752.000000             NaN   \n",
      "25%            NaN               NaN   15023.250000             NaN   \n",
      "50%            NaN               NaN   25364.500000             NaN   \n",
      "75%            NaN               NaN   34891.750000             NaN   \n",
      "max            NaN               NaN   40088.000000             NaN   \n",
      "\n",
      "              date      weight  \n",
      "count   195.000000  206.000000  \n",
      "unique         NaN         NaN  \n",
      "top            NaN         NaN  \n",
      "freq           NaN         NaN  \n",
      "mean    145.005128   20.873786  \n",
      "std      76.001119   30.384224  \n",
      "min      12.000000    0.000000  \n",
      "25%      71.000000    0.000000  \n",
      "50%     152.000000   12.500000  \n",
      "75%     222.000000   24.250000  \n",
      "max     261.000000  100.000000  \n",
      "\n",
      "assessments.isna().sum()\n",
      "code_module           0\n",
      "code_presentation     0\n",
      "id_assessment         0\n",
      "assessment_type       0\n",
      "date                 11\n",
      "weight                0\n",
      "dtype: int64\n",
      "\n",
      "assessments.value_counts()\n",
      "code_module  code_presentation  id_assessment  assessment_type  date   weight\n",
      "AAA          2013J              1752           TMA              19.0   10.0      1\n",
      "FFF          2014B              34893          CMA              227.0  0.0       1\n",
      "             2013B              34871          CMA              222.0  0.0       1\n",
      "                                34872          Exam             222.0  100.0     1\n",
      "             2013J              34873          TMA              19.0   12.5      1\n",
      "                                                                                ..\n",
      "DDD          2013B              25337          TMA              116.0  15.0      1\n",
      "                                25338          TMA              151.0  15.0      1\n",
      "                                25339          TMA              200.0  15.0      1\n",
      "                                25340          Exam             240.0  100.0     1\n",
      "GGG          2014J              37444          Exam             229.0  100.0     1\n",
      "Name: count, Length: 195, dtype: int64\n",
      "\n",
      "\n"
     ]
    }
   ],
   "source": [
    "def basic_exploration(name, df):\n",
    "    print(\"{}.head()\".format(name))\n",
    "    print(df.head())\n",
    "    print(\"{}.shape\".format(name))\n",
    "    print(df.shape)\n",
    "    print(\"\\n{}.describe()\".format(name))\n",
    "    print(df.describe(include='all'))\n",
    "    print(\"\\n{}.isna().sum()\".format(name))\n",
    "    print(df.isna().sum())\n",
    "    print(\"\\n{}.value_counts()\".format(name))\n",
    "    print(df.value_counts())\n",
    "\n",
    "    print(\"\\n\")\n",
    "\n",
    "basic_exploration(\"assessments\", assessments)"
   ]
  },
  {
   "cell_type": "markdown",
   "id": "1eb71646",
   "metadata": {
    "papermill": {
     "duration": 0.007644,
     "end_time": "2024-02-18T19:06:03.424311",
     "exception": false,
     "start_time": "2024-02-18T19:06:03.416667",
     "status": "completed"
    },
    "tags": []
   },
   "source": [
    "# Courses"
   ]
  },
  {
   "cell_type": "code",
   "execution_count": 6,
   "id": "5402e7eb",
   "metadata": {
    "execution": {
     "iopub.execute_input": "2024-02-18T19:06:03.441477Z",
     "iopub.status.busy": "2024-02-18T19:06:03.441089Z",
     "iopub.status.idle": "2024-02-18T19:06:03.452904Z",
     "shell.execute_reply": "2024-02-18T19:06:03.451935Z"
    },
    "papermill": {
     "duration": 0.022624,
     "end_time": "2024-02-18T19:06:03.454799",
     "exception": false,
     "start_time": "2024-02-18T19:06:03.432175",
     "status": "completed"
    },
    "tags": []
   },
   "outputs": [
    {
     "data": {
      "text/html": [
       "<div>\n",
       "<style scoped>\n",
       "    .dataframe tbody tr th:only-of-type {\n",
       "        vertical-align: middle;\n",
       "    }\n",
       "\n",
       "    .dataframe tbody tr th {\n",
       "        vertical-align: top;\n",
       "    }\n",
       "\n",
       "    .dataframe thead th {\n",
       "        text-align: right;\n",
       "    }\n",
       "</style>\n",
       "<table border=\"1\" class=\"dataframe\">\n",
       "  <thead>\n",
       "    <tr style=\"text-align: right;\">\n",
       "      <th></th>\n",
       "      <th>code_module</th>\n",
       "      <th>code_presentation</th>\n",
       "      <th>module_presentation_length</th>\n",
       "    </tr>\n",
       "  </thead>\n",
       "  <tbody>\n",
       "    <tr>\n",
       "      <th>0</th>\n",
       "      <td>AAA</td>\n",
       "      <td>2013J</td>\n",
       "      <td>268</td>\n",
       "    </tr>\n",
       "    <tr>\n",
       "      <th>1</th>\n",
       "      <td>AAA</td>\n",
       "      <td>2014J</td>\n",
       "      <td>269</td>\n",
       "    </tr>\n",
       "    <tr>\n",
       "      <th>2</th>\n",
       "      <td>BBB</td>\n",
       "      <td>2013J</td>\n",
       "      <td>268</td>\n",
       "    </tr>\n",
       "    <tr>\n",
       "      <th>3</th>\n",
       "      <td>BBB</td>\n",
       "      <td>2014J</td>\n",
       "      <td>262</td>\n",
       "    </tr>\n",
       "    <tr>\n",
       "      <th>4</th>\n",
       "      <td>BBB</td>\n",
       "      <td>2013B</td>\n",
       "      <td>240</td>\n",
       "    </tr>\n",
       "  </tbody>\n",
       "</table>\n",
       "</div>"
      ],
      "text/plain": [
       "  code_module code_presentation  module_presentation_length\n",
       "0         AAA             2013J                         268\n",
       "1         AAA             2014J                         269\n",
       "2         BBB             2013J                         268\n",
       "3         BBB             2014J                         262\n",
       "4         BBB             2013B                         240"
      ]
     },
     "execution_count": 6,
     "metadata": {},
     "output_type": "execute_result"
    }
   ],
   "source": [
    "courses.head()"
   ]
  },
  {
   "cell_type": "code",
   "execution_count": 7,
   "id": "049f5b47",
   "metadata": {
    "execution": {
     "iopub.execute_input": "2024-02-18T19:06:03.473688Z",
     "iopub.status.busy": "2024-02-18T19:06:03.473076Z",
     "iopub.status.idle": "2024-02-18T19:06:03.479980Z",
     "shell.execute_reply": "2024-02-18T19:06:03.479305Z"
    },
    "papermill": {
     "duration": 0.017621,
     "end_time": "2024-02-18T19:06:03.481737",
     "exception": false,
     "start_time": "2024-02-18T19:06:03.464116",
     "status": "completed"
    },
    "tags": []
   },
   "outputs": [
    {
     "data": {
      "text/plain": [
       "code_module                   0\n",
       "code_presentation             0\n",
       "module_presentation_length    0\n",
       "dtype: int64"
      ]
     },
     "execution_count": 7,
     "metadata": {},
     "output_type": "execute_result"
    }
   ],
   "source": [
    "courses.isna().sum()"
   ]
  },
  {
   "cell_type": "code",
   "execution_count": 8,
   "id": "6ed5283d",
   "metadata": {
    "execution": {
     "iopub.execute_input": "2024-02-18T19:06:03.499288Z",
     "iopub.status.busy": "2024-02-18T19:06:03.498925Z",
     "iopub.status.idle": "2024-02-18T19:06:03.514423Z",
     "shell.execute_reply": "2024-02-18T19:06:03.513470Z"
    },
    "papermill": {
     "duration": 0.026429,
     "end_time": "2024-02-18T19:06:03.516348",
     "exception": false,
     "start_time": "2024-02-18T19:06:03.489919",
     "status": "completed"
    },
    "tags": []
   },
   "outputs": [
    {
     "data": {
      "text/html": [
       "<div>\n",
       "<style scoped>\n",
       "    .dataframe tbody tr th:only-of-type {\n",
       "        vertical-align: middle;\n",
       "    }\n",
       "\n",
       "    .dataframe tbody tr th {\n",
       "        vertical-align: top;\n",
       "    }\n",
       "\n",
       "    .dataframe thead th {\n",
       "        text-align: right;\n",
       "    }\n",
       "</style>\n",
       "<table border=\"1\" class=\"dataframe\">\n",
       "  <thead>\n",
       "    <tr style=\"text-align: right;\">\n",
       "      <th></th>\n",
       "      <th>code_module</th>\n",
       "      <th>code_presentation</th>\n",
       "      <th>module_presentation_length</th>\n",
       "    </tr>\n",
       "  </thead>\n",
       "  <tbody>\n",
       "    <tr>\n",
       "      <th>count</th>\n",
       "      <td>22</td>\n",
       "      <td>22</td>\n",
       "      <td>22.000000</td>\n",
       "    </tr>\n",
       "    <tr>\n",
       "      <th>unique</th>\n",
       "      <td>7</td>\n",
       "      <td>4</td>\n",
       "      <td>NaN</td>\n",
       "    </tr>\n",
       "    <tr>\n",
       "      <th>top</th>\n",
       "      <td>BBB</td>\n",
       "      <td>2014J</td>\n",
       "      <td>NaN</td>\n",
       "    </tr>\n",
       "    <tr>\n",
       "      <th>freq</th>\n",
       "      <td>4</td>\n",
       "      <td>7</td>\n",
       "      <td>NaN</td>\n",
       "    </tr>\n",
       "    <tr>\n",
       "      <th>mean</th>\n",
       "      <td>NaN</td>\n",
       "      <td>NaN</td>\n",
       "      <td>255.545455</td>\n",
       "    </tr>\n",
       "    <tr>\n",
       "      <th>std</th>\n",
       "      <td>NaN</td>\n",
       "      <td>NaN</td>\n",
       "      <td>13.654677</td>\n",
       "    </tr>\n",
       "    <tr>\n",
       "      <th>min</th>\n",
       "      <td>NaN</td>\n",
       "      <td>NaN</td>\n",
       "      <td>234.000000</td>\n",
       "    </tr>\n",
       "    <tr>\n",
       "      <th>25%</th>\n",
       "      <td>NaN</td>\n",
       "      <td>NaN</td>\n",
       "      <td>241.000000</td>\n",
       "    </tr>\n",
       "    <tr>\n",
       "      <th>50%</th>\n",
       "      <td>NaN</td>\n",
       "      <td>NaN</td>\n",
       "      <td>261.500000</td>\n",
       "    </tr>\n",
       "    <tr>\n",
       "      <th>75%</th>\n",
       "      <td>NaN</td>\n",
       "      <td>NaN</td>\n",
       "      <td>268.000000</td>\n",
       "    </tr>\n",
       "    <tr>\n",
       "      <th>max</th>\n",
       "      <td>NaN</td>\n",
       "      <td>NaN</td>\n",
       "      <td>269.000000</td>\n",
       "    </tr>\n",
       "  </tbody>\n",
       "</table>\n",
       "</div>"
      ],
      "text/plain": [
       "       code_module code_presentation  module_presentation_length\n",
       "count           22                22                   22.000000\n",
       "unique           7                 4                         NaN\n",
       "top            BBB             2014J                         NaN\n",
       "freq             4                 7                         NaN\n",
       "mean           NaN               NaN                  255.545455\n",
       "std            NaN               NaN                   13.654677\n",
       "min            NaN               NaN                  234.000000\n",
       "25%            NaN               NaN                  241.000000\n",
       "50%            NaN               NaN                  261.500000\n",
       "75%            NaN               NaN                  268.000000\n",
       "max            NaN               NaN                  269.000000"
      ]
     },
     "execution_count": 8,
     "metadata": {},
     "output_type": "execute_result"
    }
   ],
   "source": [
    "courses.describe(include='all')"
   ]
  },
  {
   "cell_type": "code",
   "execution_count": 9,
   "id": "9f4d18f1",
   "metadata": {
    "execution": {
     "iopub.execute_input": "2024-02-18T19:06:03.535921Z",
     "iopub.status.busy": "2024-02-18T19:06:03.534982Z",
     "iopub.status.idle": "2024-02-18T19:06:03.543780Z",
     "shell.execute_reply": "2024-02-18T19:06:03.543123Z"
    },
    "papermill": {
     "duration": 0.020429,
     "end_time": "2024-02-18T19:06:03.545634",
     "exception": false,
     "start_time": "2024-02-18T19:06:03.525205",
     "status": "completed"
    },
    "tags": []
   },
   "outputs": [
    {
     "data": {
      "text/plain": [
       "code_module  code_presentation  module_presentation_length\n",
       "AAA          2013J              268                           1\n",
       "             2014J              269                           1\n",
       "GGG          2014B              241                           1\n",
       "             2013J              261                           1\n",
       "FFF          2014J              269                           1\n",
       "             2014B              241                           1\n",
       "             2013J              268                           1\n",
       "             2013B              240                           1\n",
       "EEE          2014J              269                           1\n",
       "             2014B              241                           1\n",
       "             2013J              268                           1\n",
       "DDD          2014J              262                           1\n",
       "             2014B              241                           1\n",
       "             2013J              261                           1\n",
       "             2013B              240                           1\n",
       "CCC          2014J              269                           1\n",
       "             2014B              241                           1\n",
       "BBB          2014J              262                           1\n",
       "             2014B              234                           1\n",
       "             2013J              268                           1\n",
       "             2013B              240                           1\n",
       "GGG          2014J              269                           1\n",
       "Name: count, dtype: int64"
      ]
     },
     "execution_count": 9,
     "metadata": {},
     "output_type": "execute_result"
    }
   ],
   "source": [
    "courses.value_counts()"
   ]
  },
  {
   "cell_type": "code",
   "execution_count": 10,
   "id": "0a038a03",
   "metadata": {
    "execution": {
     "iopub.execute_input": "2024-02-18T19:06:03.564108Z",
     "iopub.status.busy": "2024-02-18T19:06:03.563785Z",
     "iopub.status.idle": "2024-02-18T19:06:03.570015Z",
     "shell.execute_reply": "2024-02-18T19:06:03.569365Z"
    },
    "papermill": {
     "duration": 0.017727,
     "end_time": "2024-02-18T19:06:03.572042",
     "exception": false,
     "start_time": "2024-02-18T19:06:03.554315",
     "status": "completed"
    },
    "tags": []
   },
   "outputs": [
    {
     "name": "stdout",
     "output_type": "stream",
     "text": [
      "code_module                7 ['AAA' 'BBB' 'CCC' 'DDD' 'EEE' 'FFF' 'GGG']\n",
      "code_presentation          4 ['2013J' '2014J' '2013B' '2014B']\n",
      "module_presentation_length 7 [268 269 262 240 234 241 261]\n"
     ]
    }
   ],
   "source": [
    "for c in courses.columns:\n",
    "    u = courses[c].unique()\n",
    "    print(\"{: <26} {} {}\".format(c, len(u), courses[c].unique()))"
   ]
  },
  {
   "cell_type": "code",
   "execution_count": 11,
   "id": "32176ff8",
   "metadata": {
    "execution": {
     "iopub.execute_input": "2024-02-18T19:06:03.590974Z",
     "iopub.status.busy": "2024-02-18T19:06:03.590092Z",
     "iopub.status.idle": "2024-02-18T19:06:03.600404Z",
     "shell.execute_reply": "2024-02-18T19:06:03.599588Z"
    },
    "papermill": {
     "duration": 0.021601,
     "end_time": "2024-02-18T19:06:03.602254",
     "exception": false,
     "start_time": "2024-02-18T19:06:03.580653",
     "status": "completed"
    },
    "tags": []
   },
   "outputs": [
    {
     "data": {
      "text/plain": [
       "code_presentation\n",
       "2013B                        [BBB, DDD, FFF]\n",
       "2013J         [AAA, BBB, DDD, EEE, FFF, GGG]\n",
       "2014B         [BBB, CCC, DDD, EEE, FFF, GGG]\n",
       "2014J    [AAA, BBB, CCC, DDD, EEE, FFF, GGG]\n",
       "Name: code_module, dtype: object"
      ]
     },
     "execution_count": 11,
     "metadata": {},
     "output_type": "execute_result"
    }
   ],
   "source": [
    "courses.groupby('code_presentation')['code_module'].unique()"
   ]
  },
  {
   "cell_type": "code",
   "execution_count": 12,
   "id": "36cf80f7",
   "metadata": {
    "execution": {
     "iopub.execute_input": "2024-02-18T19:06:03.621132Z",
     "iopub.status.busy": "2024-02-18T19:06:03.620820Z",
     "iopub.status.idle": "2024-02-18T19:06:03.629871Z",
     "shell.execute_reply": "2024-02-18T19:06:03.629032Z"
    },
    "papermill": {
     "duration": 0.020738,
     "end_time": "2024-02-18T19:06:03.631787",
     "exception": false,
     "start_time": "2024-02-18T19:06:03.611049",
     "status": "completed"
    },
    "tags": []
   },
   "outputs": [
    {
     "data": {
      "text/plain": [
       "code_presentation\n",
       "2013B         [240]\n",
       "2013J    [268, 261]\n",
       "2014B    [234, 241]\n",
       "2014J    [269, 262]\n",
       "Name: module_presentation_length, dtype: object"
      ]
     },
     "execution_count": 12,
     "metadata": {},
     "output_type": "execute_result"
    }
   ],
   "source": [
    "courses.groupby('code_presentation')['module_presentation_length'].unique()"
   ]
  },
  {
   "cell_type": "code",
   "execution_count": 13,
   "id": "629b0f50",
   "metadata": {
    "execution": {
     "iopub.execute_input": "2024-02-18T19:06:03.652013Z",
     "iopub.status.busy": "2024-02-18T19:06:03.651068Z",
     "iopub.status.idle": "2024-02-18T19:06:03.661454Z",
     "shell.execute_reply": "2024-02-18T19:06:03.660446Z"
    },
    "papermill": {
     "duration": 0.02266,
     "end_time": "2024-02-18T19:06:03.663386",
     "exception": false,
     "start_time": "2024-02-18T19:06:03.640726",
     "status": "completed"
    },
    "tags": []
   },
   "outputs": [
    {
     "data": {
      "text/plain": [
       "code_module\n",
       "AAA              [268, 269]\n",
       "BBB    [268, 262, 240, 234]\n",
       "CCC              [269, 241]\n",
       "DDD    [261, 262, 240, 241]\n",
       "EEE         [268, 269, 241]\n",
       "FFF    [268, 269, 240, 241]\n",
       "GGG         [261, 269, 241]\n",
       "Name: module_presentation_length, dtype: object"
      ]
     },
     "execution_count": 13,
     "metadata": {},
     "output_type": "execute_result"
    }
   ],
   "source": [
    "courses.groupby('code_module')['module_presentation_length'].unique()"
   ]
  },
  {
   "cell_type": "code",
   "execution_count": 14,
   "id": "a2ff9b9e",
   "metadata": {
    "execution": {
     "iopub.execute_input": "2024-02-18T19:06:03.683105Z",
     "iopub.status.busy": "2024-02-18T19:06:03.682381Z",
     "iopub.status.idle": "2024-02-18T19:06:03.696861Z",
     "shell.execute_reply": "2024-02-18T19:06:03.695873Z"
    },
    "papermill": {
     "duration": 0.026566,
     "end_time": "2024-02-18T19:06:03.699013",
     "exception": false,
     "start_time": "2024-02-18T19:06:03.672447",
     "status": "completed"
    },
    "tags": []
   },
   "outputs": [
    {
     "name": "stdout",
     "output_type": "stream",
     "text": [
      "(32593, 12)\n"
     ]
    },
    {
     "data": {
      "text/html": [
       "<div>\n",
       "<style scoped>\n",
       "    .dataframe tbody tr th:only-of-type {\n",
       "        vertical-align: middle;\n",
       "    }\n",
       "\n",
       "    .dataframe tbody tr th {\n",
       "        vertical-align: top;\n",
       "    }\n",
       "\n",
       "    .dataframe thead th {\n",
       "        text-align: right;\n",
       "    }\n",
       "</style>\n",
       "<table border=\"1\" class=\"dataframe\">\n",
       "  <thead>\n",
       "    <tr style=\"text-align: right;\">\n",
       "      <th></th>\n",
       "      <th>code_module</th>\n",
       "      <th>code_presentation</th>\n",
       "      <th>id_student</th>\n",
       "      <th>gender</th>\n",
       "      <th>region</th>\n",
       "      <th>highest_education</th>\n",
       "      <th>imd_band</th>\n",
       "      <th>age_band</th>\n",
       "      <th>num_of_prev_attempts</th>\n",
       "      <th>studied_credits</th>\n",
       "      <th>disability</th>\n",
       "      <th>final_result</th>\n",
       "    </tr>\n",
       "  </thead>\n",
       "  <tbody>\n",
       "    <tr>\n",
       "      <th>0</th>\n",
       "      <td>AAA</td>\n",
       "      <td>2013J</td>\n",
       "      <td>11391</td>\n",
       "      <td>M</td>\n",
       "      <td>East Anglian Region</td>\n",
       "      <td>HE Qualification</td>\n",
       "      <td>90-100%</td>\n",
       "      <td>55&lt;=</td>\n",
       "      <td>0</td>\n",
       "      <td>240</td>\n",
       "      <td>N</td>\n",
       "      <td>Pass</td>\n",
       "    </tr>\n",
       "    <tr>\n",
       "      <th>1</th>\n",
       "      <td>AAA</td>\n",
       "      <td>2013J</td>\n",
       "      <td>28400</td>\n",
       "      <td>F</td>\n",
       "      <td>Scotland</td>\n",
       "      <td>HE Qualification</td>\n",
       "      <td>20-30%</td>\n",
       "      <td>35-55</td>\n",
       "      <td>0</td>\n",
       "      <td>60</td>\n",
       "      <td>N</td>\n",
       "      <td>Pass</td>\n",
       "    </tr>\n",
       "    <tr>\n",
       "      <th>2</th>\n",
       "      <td>AAA</td>\n",
       "      <td>2013J</td>\n",
       "      <td>30268</td>\n",
       "      <td>F</td>\n",
       "      <td>North Western Region</td>\n",
       "      <td>A Level or Equivalent</td>\n",
       "      <td>30-40%</td>\n",
       "      <td>35-55</td>\n",
       "      <td>0</td>\n",
       "      <td>60</td>\n",
       "      <td>Y</td>\n",
       "      <td>Withdrawn</td>\n",
       "    </tr>\n",
       "    <tr>\n",
       "      <th>3</th>\n",
       "      <td>AAA</td>\n",
       "      <td>2013J</td>\n",
       "      <td>31604</td>\n",
       "      <td>F</td>\n",
       "      <td>South East Region</td>\n",
       "      <td>A Level or Equivalent</td>\n",
       "      <td>50-60%</td>\n",
       "      <td>35-55</td>\n",
       "      <td>0</td>\n",
       "      <td>60</td>\n",
       "      <td>N</td>\n",
       "      <td>Pass</td>\n",
       "    </tr>\n",
       "    <tr>\n",
       "      <th>4</th>\n",
       "      <td>AAA</td>\n",
       "      <td>2013J</td>\n",
       "      <td>32885</td>\n",
       "      <td>F</td>\n",
       "      <td>West Midlands Region</td>\n",
       "      <td>Lower Than A Level</td>\n",
       "      <td>50-60%</td>\n",
       "      <td>0-35</td>\n",
       "      <td>0</td>\n",
       "      <td>60</td>\n",
       "      <td>N</td>\n",
       "      <td>Pass</td>\n",
       "    </tr>\n",
       "  </tbody>\n",
       "</table>\n",
       "</div>"
      ],
      "text/plain": [
       "  code_module code_presentation  id_student gender                region  \\\n",
       "0         AAA             2013J       11391      M   East Anglian Region   \n",
       "1         AAA             2013J       28400      F              Scotland   \n",
       "2         AAA             2013J       30268      F  North Western Region   \n",
       "3         AAA             2013J       31604      F     South East Region   \n",
       "4         AAA             2013J       32885      F  West Midlands Region   \n",
       "\n",
       "       highest_education imd_band age_band  num_of_prev_attempts  \\\n",
       "0       HE Qualification  90-100%     55<=                     0   \n",
       "1       HE Qualification   20-30%    35-55                     0   \n",
       "2  A Level or Equivalent   30-40%    35-55                     0   \n",
       "3  A Level or Equivalent   50-60%    35-55                     0   \n",
       "4     Lower Than A Level   50-60%     0-35                     0   \n",
       "\n",
       "   studied_credits disability final_result  \n",
       "0              240          N         Pass  \n",
       "1               60          N         Pass  \n",
       "2               60          Y    Withdrawn  \n",
       "3               60          N         Pass  \n",
       "4               60          N         Pass  "
      ]
     },
     "execution_count": 14,
     "metadata": {},
     "output_type": "execute_result"
    }
   ],
   "source": [
    "# Combine with student_info to get scores\n",
    "print(student_info.shape)\n",
    "student_info.head()"
   ]
  },
  {
   "cell_type": "code",
   "execution_count": 15,
   "id": "c6b801bc",
   "metadata": {
    "execution": {
     "iopub.execute_input": "2024-02-18T19:06:03.719178Z",
     "iopub.status.busy": "2024-02-18T19:06:03.718626Z",
     "iopub.status.idle": "2024-02-18T19:06:03.876203Z",
     "shell.execute_reply": "2024-02-18T19:06:03.875265Z"
    },
    "papermill": {
     "duration": 0.170036,
     "end_time": "2024-02-18T19:06:03.878288",
     "exception": false,
     "start_time": "2024-02-18T19:06:03.708252",
     "status": "completed"
    },
    "tags": []
   },
   "outputs": [
    {
     "name": "stdout",
     "output_type": "stream",
     "text": [
      "(25843, 14)\n"
     ]
    },
    {
     "data": {
      "text/html": [
       "<div>\n",
       "<style scoped>\n",
       "    .dataframe tbody tr th:only-of-type {\n",
       "        vertical-align: middle;\n",
       "    }\n",
       "\n",
       "    .dataframe tbody tr th {\n",
       "        vertical-align: top;\n",
       "    }\n",
       "\n",
       "    .dataframe thead th {\n",
       "        text-align: right;\n",
       "    }\n",
       "</style>\n",
       "<table border=\"1\" class=\"dataframe\">\n",
       "  <thead>\n",
       "    <tr style=\"text-align: right;\">\n",
       "      <th></th>\n",
       "      <th>code_module</th>\n",
       "      <th>code_presentation</th>\n",
       "      <th>id_student</th>\n",
       "      <th>gender</th>\n",
       "      <th>region</th>\n",
       "      <th>highest_education</th>\n",
       "      <th>imd_band</th>\n",
       "      <th>age_band</th>\n",
       "      <th>num_of_prev_attempts</th>\n",
       "      <th>studied_credits</th>\n",
       "      <th>disability</th>\n",
       "      <th>final_result</th>\n",
       "      <th>score</th>\n",
       "      <th>grade</th>\n",
       "    </tr>\n",
       "  </thead>\n",
       "  <tbody>\n",
       "    <tr>\n",
       "      <th>0</th>\n",
       "      <td>AAA</td>\n",
       "      <td>2013J</td>\n",
       "      <td>11391</td>\n",
       "      <td>M</td>\n",
       "      <td>East Anglian Region</td>\n",
       "      <td>HE Qualification</td>\n",
       "      <td>90-100%</td>\n",
       "      <td>55&lt;=</td>\n",
       "      <td>0</td>\n",
       "      <td>240</td>\n",
       "      <td>N</td>\n",
       "      <td>Pass</td>\n",
       "      <td>82.4</td>\n",
       "      <td>A-</td>\n",
       "    </tr>\n",
       "    <tr>\n",
       "      <th>1</th>\n",
       "      <td>AAA</td>\n",
       "      <td>2013J</td>\n",
       "      <td>28400</td>\n",
       "      <td>F</td>\n",
       "      <td>Scotland</td>\n",
       "      <td>HE Qualification</td>\n",
       "      <td>20-30%</td>\n",
       "      <td>35-55</td>\n",
       "      <td>0</td>\n",
       "      <td>60</td>\n",
       "      <td>N</td>\n",
       "      <td>Pass</td>\n",
       "      <td>65.4</td>\n",
       "      <td>C</td>\n",
       "    </tr>\n",
       "    <tr>\n",
       "      <th>2</th>\n",
       "      <td>AAA</td>\n",
       "      <td>2013J</td>\n",
       "      <td>31604</td>\n",
       "      <td>F</td>\n",
       "      <td>South East Region</td>\n",
       "      <td>A Level or Equivalent</td>\n",
       "      <td>50-60%</td>\n",
       "      <td>35-55</td>\n",
       "      <td>0</td>\n",
       "      <td>60</td>\n",
       "      <td>N</td>\n",
       "      <td>Pass</td>\n",
       "      <td>76.3</td>\n",
       "      <td>B</td>\n",
       "    </tr>\n",
       "    <tr>\n",
       "      <th>3</th>\n",
       "      <td>AAA</td>\n",
       "      <td>2013J</td>\n",
       "      <td>32885</td>\n",
       "      <td>F</td>\n",
       "      <td>West Midlands Region</td>\n",
       "      <td>Lower Than A Level</td>\n",
       "      <td>50-60%</td>\n",
       "      <td>0-35</td>\n",
       "      <td>0</td>\n",
       "      <td>60</td>\n",
       "      <td>N</td>\n",
       "      <td>Pass</td>\n",
       "      <td>55.0</td>\n",
       "      <td>D</td>\n",
       "    </tr>\n",
       "    <tr>\n",
       "      <th>4</th>\n",
       "      <td>AAA</td>\n",
       "      <td>2013J</td>\n",
       "      <td>38053</td>\n",
       "      <td>M</td>\n",
       "      <td>Wales</td>\n",
       "      <td>A Level or Equivalent</td>\n",
       "      <td>80-90%</td>\n",
       "      <td>35-55</td>\n",
       "      <td>0</td>\n",
       "      <td>60</td>\n",
       "      <td>N</td>\n",
       "      <td>Pass</td>\n",
       "      <td>66.9</td>\n",
       "      <td>C</td>\n",
       "    </tr>\n",
       "    <tr>\n",
       "      <th>...</th>\n",
       "      <td>...</td>\n",
       "      <td>...</td>\n",
       "      <td>...</td>\n",
       "      <td>...</td>\n",
       "      <td>...</td>\n",
       "      <td>...</td>\n",
       "      <td>...</td>\n",
       "      <td>...</td>\n",
       "      <td>...</td>\n",
       "      <td>...</td>\n",
       "      <td>...</td>\n",
       "      <td>...</td>\n",
       "      <td>...</td>\n",
       "      <td>...</td>\n",
       "    </tr>\n",
       "    <tr>\n",
       "      <th>25838</th>\n",
       "      <td>GGG</td>\n",
       "      <td>2014J</td>\n",
       "      <td>2620947</td>\n",
       "      <td>F</td>\n",
       "      <td>Scotland</td>\n",
       "      <td>A Level or Equivalent</td>\n",
       "      <td>80-90%</td>\n",
       "      <td>0-35</td>\n",
       "      <td>0</td>\n",
       "      <td>30</td>\n",
       "      <td>Y</td>\n",
       "      <td>Distinction</td>\n",
       "      <td>NaN</td>\n",
       "      <td></td>\n",
       "    </tr>\n",
       "    <tr>\n",
       "      <th>25839</th>\n",
       "      <td>GGG</td>\n",
       "      <td>2014J</td>\n",
       "      <td>2645731</td>\n",
       "      <td>F</td>\n",
       "      <td>East Anglian Region</td>\n",
       "      <td>Lower Than A Level</td>\n",
       "      <td>40-50%</td>\n",
       "      <td>35-55</td>\n",
       "      <td>0</td>\n",
       "      <td>30</td>\n",
       "      <td>N</td>\n",
       "      <td>Distinction</td>\n",
       "      <td>NaN</td>\n",
       "      <td></td>\n",
       "    </tr>\n",
       "    <tr>\n",
       "      <th>25840</th>\n",
       "      <td>GGG</td>\n",
       "      <td>2014J</td>\n",
       "      <td>2648187</td>\n",
       "      <td>F</td>\n",
       "      <td>South Region</td>\n",
       "      <td>A Level or Equivalent</td>\n",
       "      <td>20-30%</td>\n",
       "      <td>0-35</td>\n",
       "      <td>0</td>\n",
       "      <td>30</td>\n",
       "      <td>Y</td>\n",
       "      <td>Pass</td>\n",
       "      <td>NaN</td>\n",
       "      <td></td>\n",
       "    </tr>\n",
       "    <tr>\n",
       "      <th>25841</th>\n",
       "      <td>GGG</td>\n",
       "      <td>2014J</td>\n",
       "      <td>2679821</td>\n",
       "      <td>F</td>\n",
       "      <td>South East Region</td>\n",
       "      <td>Lower Than A Level</td>\n",
       "      <td>90-100%</td>\n",
       "      <td>35-55</td>\n",
       "      <td>0</td>\n",
       "      <td>30</td>\n",
       "      <td>N</td>\n",
       "      <td>Withdrawn</td>\n",
       "      <td>NaN</td>\n",
       "      <td></td>\n",
       "    </tr>\n",
       "    <tr>\n",
       "      <th>25842</th>\n",
       "      <td>GGG</td>\n",
       "      <td>2014J</td>\n",
       "      <td>2684003</td>\n",
       "      <td>F</td>\n",
       "      <td>Yorkshire Region</td>\n",
       "      <td>HE Qualification</td>\n",
       "      <td>50-60%</td>\n",
       "      <td>35-55</td>\n",
       "      <td>0</td>\n",
       "      <td>30</td>\n",
       "      <td>N</td>\n",
       "      <td>Distinction</td>\n",
       "      <td>NaN</td>\n",
       "      <td></td>\n",
       "    </tr>\n",
       "  </tbody>\n",
       "</table>\n",
       "<p>25843 rows × 14 columns</p>\n",
       "</div>"
      ],
      "text/plain": [
       "      code_module code_presentation  id_student gender                region  \\\n",
       "0             AAA             2013J       11391      M   East Anglian Region   \n",
       "1             AAA             2013J       28400      F              Scotland   \n",
       "2             AAA             2013J       31604      F     South East Region   \n",
       "3             AAA             2013J       32885      F  West Midlands Region   \n",
       "4             AAA             2013J       38053      M                 Wales   \n",
       "...           ...               ...         ...    ...                   ...   \n",
       "25838         GGG             2014J     2620947      F              Scotland   \n",
       "25839         GGG             2014J     2645731      F   East Anglian Region   \n",
       "25840         GGG             2014J     2648187      F          South Region   \n",
       "25841         GGG             2014J     2679821      F     South East Region   \n",
       "25842         GGG             2014J     2684003      F      Yorkshire Region   \n",
       "\n",
       "           highest_education imd_band age_band  num_of_prev_attempts  \\\n",
       "0           HE Qualification  90-100%     55<=                     0   \n",
       "1           HE Qualification   20-30%    35-55                     0   \n",
       "2      A Level or Equivalent   50-60%    35-55                     0   \n",
       "3         Lower Than A Level   50-60%     0-35                     0   \n",
       "4      A Level or Equivalent   80-90%    35-55                     0   \n",
       "...                      ...      ...      ...                   ...   \n",
       "25838  A Level or Equivalent   80-90%     0-35                     0   \n",
       "25839     Lower Than A Level   40-50%    35-55                     0   \n",
       "25840  A Level or Equivalent   20-30%     0-35                     0   \n",
       "25841     Lower Than A Level  90-100%    35-55                     0   \n",
       "25842       HE Qualification   50-60%    35-55                     0   \n",
       "\n",
       "       studied_credits disability final_result  score grade  \n",
       "0                  240          N         Pass   82.4    A-  \n",
       "1                   60          N         Pass   65.4     C  \n",
       "2                   60          N         Pass   76.3     B  \n",
       "3                   60          N         Pass   55.0     D  \n",
       "4                   60          N         Pass   66.9     C  \n",
       "...                ...        ...          ...    ...   ...  \n",
       "25838               30          Y  Distinction    NaN        \n",
       "25839               30          N  Distinction    NaN        \n",
       "25840               30          Y         Pass    NaN        \n",
       "25841               30          N    Withdrawn    NaN        \n",
       "25842               30          N  Distinction    NaN        \n",
       "\n",
       "[25843 rows x 14 columns]"
      ]
     },
     "execution_count": 15,
     "metadata": {},
     "output_type": "execute_result"
    }
   ],
   "source": [
    "merged = pd.merge(student_assessments, assessments, on='id_assessment')\n",
    "merged['weighted_score'] = merged['score'] * merged['weight']\n",
    "grouped = merged.groupby(['id_student', 'code_module', 'code_presentation']).agg({'weighted_score': 'sum', 'weight': 'sum'}).reset_index()\n",
    "grouped['score'] = grouped['weighted_score'] / grouped['weight']\n",
    "student_scores = grouped[['id_student', 'code_module', 'code_presentation', 'score']]\n",
    "student_info = pd.merge(student_info, student_scores, on=['id_student', 'code_module', 'code_presentation'])\n",
    "grades = {\n",
    "    \"A+\": 90,\n",
    "    \"A\": 85,\n",
    "    \"A-\": 80,\n",
    "    \"B+\": 77,\n",
    "    \"B\": 73,\n",
    "    \"B-\": 70,\n",
    "    \"C+\": 67,\n",
    "    \"C\": 63,\n",
    "    \"C-\": 60,\n",
    "    \"D+\": 57,\n",
    "    \"D\": 53,\n",
    "    \"D-\": 50,\n",
    "    \"F\": 0\n",
    "}\n",
    "sorted_grades = sorted(grades.items(), key=lambda x: x[1])\n",
    "\n",
    "student_info['grade'] = ''\n",
    "\n",
    "for grade, bound in sorted_grades:\n",
    "    student_info.loc[student_info['score'] >= bound, 'grade'] = grade\n",
    "\n",
    "print(student_info.shape)\n",
    "student_info"
   ]
  },
  {
   "cell_type": "code",
   "execution_count": 16,
   "id": "4a64bfa1",
   "metadata": {
    "execution": {
     "iopub.execute_input": "2024-02-18T19:06:03.899000Z",
     "iopub.status.busy": "2024-02-18T19:06:03.898654Z",
     "iopub.status.idle": "2024-02-18T19:06:03.918642Z",
     "shell.execute_reply": "2024-02-18T19:06:03.917715Z"
    },
    "papermill": {
     "duration": 0.032538,
     "end_time": "2024-02-18T19:06:03.920618",
     "exception": false,
     "start_time": "2024-02-18T19:06:03.888080",
     "status": "completed"
    },
    "tags": []
   },
   "outputs": [
    {
     "data": {
      "text/plain": [
       "code_module                0\n",
       "code_presentation          0\n",
       "id_student                 0\n",
       "gender                     0\n",
       "region                     0\n",
       "highest_education          0\n",
       "imd_band                 998\n",
       "age_band                   0\n",
       "num_of_prev_attempts       0\n",
       "studied_credits            0\n",
       "disability                 0\n",
       "final_result               0\n",
       "score                   2337\n",
       "grade                      0\n",
       "dtype: int64"
      ]
     },
     "execution_count": 16,
     "metadata": {},
     "output_type": "execute_result"
    }
   ],
   "source": [
    "student_info.isna().sum()"
   ]
  },
  {
   "cell_type": "code",
   "execution_count": 17,
   "id": "7004afbc",
   "metadata": {
    "execution": {
     "iopub.execute_input": "2024-02-18T19:06:03.942210Z",
     "iopub.status.busy": "2024-02-18T19:06:03.941625Z",
     "iopub.status.idle": "2024-02-18T19:06:03.997469Z",
     "shell.execute_reply": "2024-02-18T19:06:03.996748Z"
    },
    "papermill": {
     "duration": 0.069429,
     "end_time": "2024-02-18T19:06:04.000048",
     "exception": false,
     "start_time": "2024-02-18T19:06:03.930619",
     "status": "completed"
    },
    "tags": []
   },
   "outputs": [
    {
     "name": "stdout",
     "output_type": "stream",
     "text": [
      "AAA\n",
      "code_module  final_result\n",
      "AAA          Pass            68.936170\n",
      "             Withdrawn       13.333333\n",
      "             Fail            11.489362\n",
      "             Distinction      6.241135\n",
      "Name: count, dtype: float64\n",
      "BBB\n",
      "code_module  final_result\n",
      "BBB          Pass            50.633536\n",
      "             Fail            23.761725\n",
      "             Withdrawn       14.464374\n",
      "             Distinction     11.140365\n",
      "Name: count, dtype: float64\n",
      "CCC\n",
      "code_module  final_result\n",
      "CCC          Pass            34.544389\n",
      "             Withdrawn       31.204219\n",
      "             Fail            19.660123\n",
      "             Distinction     14.591269\n",
      "Name: count, dtype: float64\n",
      "DDD\n",
      "code_module  final_result\n",
      "DDD          Pass            45.044498\n",
      "             Fail            24.231392\n",
      "             Withdrawn       22.977346\n",
      "             Distinction      7.746764\n",
      "Name: count, dtype: float64\n",
      "EEE\n",
      "code_module  final_result\n",
      "EEE          Pass            56.266319\n",
      "             Fail            17.754569\n",
      "             Distinction     15.491732\n",
      "             Withdrawn       10.487380\n",
      "Name: count, dtype: float64\n",
      "FFF\n",
      "code_module  final_result\n",
      "FFF          Pass            47.314903\n",
      "             Fail            23.466794\n",
      "             Withdrawn       18.573244\n",
      "             Distinction     10.645059\n",
      "Name: count, dtype: float64\n",
      "GGG\n",
      "code_module  final_result\n",
      "GGG          Pass            52.935606\n",
      "             Fail            23.153409\n",
      "             Distinction     18.750000\n",
      "             Withdrawn        5.160985\n",
      "Name: count, dtype: float64\n"
     ]
    }
   ],
   "source": [
    "courses_final_results = student_info.filter(['code_module','final_result'], axis=1)\n",
    "courses_final_results.value_counts()\n",
    "\n",
    "\n",
    "courses_final_results.groupby(['code_module', 'final_result'])['final_result'].count()\n",
    "\n",
    "\n",
    "for c in courses['code_module'].unique():\n",
    "    print(c)\n",
    "    df = courses_final_results.loc[courses_final_results['code_module'] == c]\n",
    "    print(df.value_counts()/len(df.index)*100)"
   ]
  },
  {
   "cell_type": "code",
   "execution_count": 18,
   "id": "a7c4ef8e",
   "metadata": {
    "execution": {
     "iopub.execute_input": "2024-02-18T19:06:04.022526Z",
     "iopub.status.busy": "2024-02-18T19:06:04.022177Z",
     "iopub.status.idle": "2024-02-18T19:06:04.036110Z",
     "shell.execute_reply": "2024-02-18T19:06:04.035183Z"
    },
    "papermill": {
     "duration": 0.027959,
     "end_time": "2024-02-18T19:06:04.038324",
     "exception": false,
     "start_time": "2024-02-18T19:06:04.010365",
     "status": "completed"
    },
    "tags": []
   },
   "outputs": [
    {
     "data": {
      "text/html": [
       "<div>\n",
       "<style scoped>\n",
       "    .dataframe tbody tr th:only-of-type {\n",
       "        vertical-align: middle;\n",
       "    }\n",
       "\n",
       "    .dataframe tbody tr th {\n",
       "        vertical-align: top;\n",
       "    }\n",
       "\n",
       "    .dataframe thead th {\n",
       "        text-align: right;\n",
       "    }\n",
       "</style>\n",
       "<table border=\"1\" class=\"dataframe\">\n",
       "  <thead>\n",
       "    <tr style=\"text-align: right;\">\n",
       "      <th></th>\n",
       "      <th>code_module</th>\n",
       "      <th>code_presentation</th>\n",
       "      <th>score</th>\n",
       "    </tr>\n",
       "  </thead>\n",
       "  <tbody>\n",
       "    <tr>\n",
       "      <th>0</th>\n",
       "      <td>AAA</td>\n",
       "      <td>2013J</td>\n",
       "      <td>82.4</td>\n",
       "    </tr>\n",
       "    <tr>\n",
       "      <th>1</th>\n",
       "      <td>AAA</td>\n",
       "      <td>2013J</td>\n",
       "      <td>65.4</td>\n",
       "    </tr>\n",
       "    <tr>\n",
       "      <th>2</th>\n",
       "      <td>AAA</td>\n",
       "      <td>2013J</td>\n",
       "      <td>76.3</td>\n",
       "    </tr>\n",
       "    <tr>\n",
       "      <th>3</th>\n",
       "      <td>AAA</td>\n",
       "      <td>2013J</td>\n",
       "      <td>55.0</td>\n",
       "    </tr>\n",
       "    <tr>\n",
       "      <th>4</th>\n",
       "      <td>AAA</td>\n",
       "      <td>2013J</td>\n",
       "      <td>66.9</td>\n",
       "    </tr>\n",
       "    <tr>\n",
       "      <th>...</th>\n",
       "      <td>...</td>\n",
       "      <td>...</td>\n",
       "      <td>...</td>\n",
       "    </tr>\n",
       "    <tr>\n",
       "      <th>25838</th>\n",
       "      <td>GGG</td>\n",
       "      <td>2014J</td>\n",
       "      <td>NaN</td>\n",
       "    </tr>\n",
       "    <tr>\n",
       "      <th>25839</th>\n",
       "      <td>GGG</td>\n",
       "      <td>2014J</td>\n",
       "      <td>NaN</td>\n",
       "    </tr>\n",
       "    <tr>\n",
       "      <th>25840</th>\n",
       "      <td>GGG</td>\n",
       "      <td>2014J</td>\n",
       "      <td>NaN</td>\n",
       "    </tr>\n",
       "    <tr>\n",
       "      <th>25841</th>\n",
       "      <td>GGG</td>\n",
       "      <td>2014J</td>\n",
       "      <td>NaN</td>\n",
       "    </tr>\n",
       "    <tr>\n",
       "      <th>25842</th>\n",
       "      <td>GGG</td>\n",
       "      <td>2014J</td>\n",
       "      <td>NaN</td>\n",
       "    </tr>\n",
       "  </tbody>\n",
       "</table>\n",
       "<p>25843 rows × 3 columns</p>\n",
       "</div>"
      ],
      "text/plain": [
       "      code_module code_presentation  score\n",
       "0             AAA             2013J   82.4\n",
       "1             AAA             2013J   65.4\n",
       "2             AAA             2013J   76.3\n",
       "3             AAA             2013J   55.0\n",
       "4             AAA             2013J   66.9\n",
       "...           ...               ...    ...\n",
       "25838         GGG             2014J    NaN\n",
       "25839         GGG             2014J    NaN\n",
       "25840         GGG             2014J    NaN\n",
       "25841         GGG             2014J    NaN\n",
       "25842         GGG             2014J    NaN\n",
       "\n",
       "[25843 rows x 3 columns]"
      ]
     },
     "execution_count": 18,
     "metadata": {},
     "output_type": "execute_result"
    }
   ],
   "source": [
    "courses_results = student_info.filter(['code_module','code_presentation','score'], axis=1)\n",
    "courses_results"
   ]
  },
  {
   "cell_type": "code",
   "execution_count": 19,
   "id": "fdef2f9c",
   "metadata": {
    "execution": {
     "iopub.execute_input": "2024-02-18T19:06:04.061339Z",
     "iopub.status.busy": "2024-02-18T19:06:04.060468Z",
     "iopub.status.idle": "2024-02-18T19:06:04.091502Z",
     "shell.execute_reply": "2024-02-18T19:06:04.090429Z"
    },
    "papermill": {
     "duration": 0.044844,
     "end_time": "2024-02-18T19:06:04.093605",
     "exception": false,
     "start_time": "2024-02-18T19:06:04.048761",
     "status": "completed"
    },
    "tags": []
   },
   "outputs": [
    {
     "data": {
      "text/html": [
       "<div>\n",
       "<style scoped>\n",
       "    .dataframe tbody tr th:only-of-type {\n",
       "        vertical-align: middle;\n",
       "    }\n",
       "\n",
       "    .dataframe tbody tr th {\n",
       "        vertical-align: top;\n",
       "    }\n",
       "\n",
       "    .dataframe thead th {\n",
       "        text-align: right;\n",
       "    }\n",
       "</style>\n",
       "<table border=\"1\" class=\"dataframe\">\n",
       "  <thead>\n",
       "    <tr style=\"text-align: right;\">\n",
       "      <th></th>\n",
       "      <th>score</th>\n",
       "      <th>AAA</th>\n",
       "      <th>BBB</th>\n",
       "      <th>CCC</th>\n",
       "      <th>DDD</th>\n",
       "      <th>EEE</th>\n",
       "      <th>FFF</th>\n",
       "      <th>GGG</th>\n",
       "      <th>2013B</th>\n",
       "      <th>2013J</th>\n",
       "      <th>2014B</th>\n",
       "      <th>2014J</th>\n",
       "    </tr>\n",
       "  </thead>\n",
       "  <tbody>\n",
       "    <tr>\n",
       "      <th>0</th>\n",
       "      <td>82.4</td>\n",
       "      <td>True</td>\n",
       "      <td>False</td>\n",
       "      <td>False</td>\n",
       "      <td>False</td>\n",
       "      <td>False</td>\n",
       "      <td>False</td>\n",
       "      <td>False</td>\n",
       "      <td>False</td>\n",
       "      <td>True</td>\n",
       "      <td>False</td>\n",
       "      <td>False</td>\n",
       "    </tr>\n",
       "    <tr>\n",
       "      <th>1</th>\n",
       "      <td>65.4</td>\n",
       "      <td>True</td>\n",
       "      <td>False</td>\n",
       "      <td>False</td>\n",
       "      <td>False</td>\n",
       "      <td>False</td>\n",
       "      <td>False</td>\n",
       "      <td>False</td>\n",
       "      <td>False</td>\n",
       "      <td>True</td>\n",
       "      <td>False</td>\n",
       "      <td>False</td>\n",
       "    </tr>\n",
       "    <tr>\n",
       "      <th>2</th>\n",
       "      <td>76.3</td>\n",
       "      <td>True</td>\n",
       "      <td>False</td>\n",
       "      <td>False</td>\n",
       "      <td>False</td>\n",
       "      <td>False</td>\n",
       "      <td>False</td>\n",
       "      <td>False</td>\n",
       "      <td>False</td>\n",
       "      <td>True</td>\n",
       "      <td>False</td>\n",
       "      <td>False</td>\n",
       "    </tr>\n",
       "    <tr>\n",
       "      <th>3</th>\n",
       "      <td>55.0</td>\n",
       "      <td>True</td>\n",
       "      <td>False</td>\n",
       "      <td>False</td>\n",
       "      <td>False</td>\n",
       "      <td>False</td>\n",
       "      <td>False</td>\n",
       "      <td>False</td>\n",
       "      <td>False</td>\n",
       "      <td>True</td>\n",
       "      <td>False</td>\n",
       "      <td>False</td>\n",
       "    </tr>\n",
       "    <tr>\n",
       "      <th>4</th>\n",
       "      <td>66.9</td>\n",
       "      <td>True</td>\n",
       "      <td>False</td>\n",
       "      <td>False</td>\n",
       "      <td>False</td>\n",
       "      <td>False</td>\n",
       "      <td>False</td>\n",
       "      <td>False</td>\n",
       "      <td>False</td>\n",
       "      <td>True</td>\n",
       "      <td>False</td>\n",
       "      <td>False</td>\n",
       "    </tr>\n",
       "    <tr>\n",
       "      <th>...</th>\n",
       "      <td>...</td>\n",
       "      <td>...</td>\n",
       "      <td>...</td>\n",
       "      <td>...</td>\n",
       "      <td>...</td>\n",
       "      <td>...</td>\n",
       "      <td>...</td>\n",
       "      <td>...</td>\n",
       "      <td>...</td>\n",
       "      <td>...</td>\n",
       "      <td>...</td>\n",
       "      <td>...</td>\n",
       "    </tr>\n",
       "    <tr>\n",
       "      <th>25838</th>\n",
       "      <td>NaN</td>\n",
       "      <td>False</td>\n",
       "      <td>False</td>\n",
       "      <td>False</td>\n",
       "      <td>False</td>\n",
       "      <td>False</td>\n",
       "      <td>False</td>\n",
       "      <td>True</td>\n",
       "      <td>False</td>\n",
       "      <td>False</td>\n",
       "      <td>False</td>\n",
       "      <td>True</td>\n",
       "    </tr>\n",
       "    <tr>\n",
       "      <th>25839</th>\n",
       "      <td>NaN</td>\n",
       "      <td>False</td>\n",
       "      <td>False</td>\n",
       "      <td>False</td>\n",
       "      <td>False</td>\n",
       "      <td>False</td>\n",
       "      <td>False</td>\n",
       "      <td>True</td>\n",
       "      <td>False</td>\n",
       "      <td>False</td>\n",
       "      <td>False</td>\n",
       "      <td>True</td>\n",
       "    </tr>\n",
       "    <tr>\n",
       "      <th>25840</th>\n",
       "      <td>NaN</td>\n",
       "      <td>False</td>\n",
       "      <td>False</td>\n",
       "      <td>False</td>\n",
       "      <td>False</td>\n",
       "      <td>False</td>\n",
       "      <td>False</td>\n",
       "      <td>True</td>\n",
       "      <td>False</td>\n",
       "      <td>False</td>\n",
       "      <td>False</td>\n",
       "      <td>True</td>\n",
       "    </tr>\n",
       "    <tr>\n",
       "      <th>25841</th>\n",
       "      <td>NaN</td>\n",
       "      <td>False</td>\n",
       "      <td>False</td>\n",
       "      <td>False</td>\n",
       "      <td>False</td>\n",
       "      <td>False</td>\n",
       "      <td>False</td>\n",
       "      <td>True</td>\n",
       "      <td>False</td>\n",
       "      <td>False</td>\n",
       "      <td>False</td>\n",
       "      <td>True</td>\n",
       "    </tr>\n",
       "    <tr>\n",
       "      <th>25842</th>\n",
       "      <td>NaN</td>\n",
       "      <td>False</td>\n",
       "      <td>False</td>\n",
       "      <td>False</td>\n",
       "      <td>False</td>\n",
       "      <td>False</td>\n",
       "      <td>False</td>\n",
       "      <td>True</td>\n",
       "      <td>False</td>\n",
       "      <td>False</td>\n",
       "      <td>False</td>\n",
       "      <td>True</td>\n",
       "    </tr>\n",
       "  </tbody>\n",
       "</table>\n",
       "<p>25843 rows × 12 columns</p>\n",
       "</div>"
      ],
      "text/plain": [
       "       score    AAA    BBB    CCC    DDD    EEE    FFF    GGG  2013B  2013J  \\\n",
       "0       82.4   True  False  False  False  False  False  False  False   True   \n",
       "1       65.4   True  False  False  False  False  False  False  False   True   \n",
       "2       76.3   True  False  False  False  False  False  False  False   True   \n",
       "3       55.0   True  False  False  False  False  False  False  False   True   \n",
       "4       66.9   True  False  False  False  False  False  False  False   True   \n",
       "...      ...    ...    ...    ...    ...    ...    ...    ...    ...    ...   \n",
       "25838    NaN  False  False  False  False  False  False   True  False  False   \n",
       "25839    NaN  False  False  False  False  False  False   True  False  False   \n",
       "25840    NaN  False  False  False  False  False  False   True  False  False   \n",
       "25841    NaN  False  False  False  False  False  False   True  False  False   \n",
       "25842    NaN  False  False  False  False  False  False   True  False  False   \n",
       "\n",
       "       2014B  2014J  \n",
       "0      False  False  \n",
       "1      False  False  \n",
       "2      False  False  \n",
       "3      False  False  \n",
       "4      False  False  \n",
       "...      ...    ...  \n",
       "25838  False   True  \n",
       "25839  False   True  \n",
       "25840  False   True  \n",
       "25841  False   True  \n",
       "25842  False   True  \n",
       "\n",
       "[25843 rows x 12 columns]"
      ]
     },
     "execution_count": 19,
     "metadata": {},
     "output_type": "execute_result"
    }
   ],
   "source": [
    "code_module_one_hot = pd.get_dummies(courses_results['code_module'])\n",
    "courses_results_one_hot = courses_results.drop('code_module',axis = 1)\n",
    "courses_results_one_hot = courses_results_one_hot.join(code_module_one_hot)\n",
    "\n",
    "code_presentation_one_hot = pd.get_dummies(courses_results['code_presentation'])\n",
    "courses_results_one_hot = courses_results_one_hot.drop('code_presentation',axis = 1)\n",
    "courses_results_one_hot = courses_results_one_hot.join(code_presentation_one_hot)\n",
    "\n",
    "courses_results_one_hot"
   ]
  },
  {
   "cell_type": "code",
   "execution_count": 20,
   "id": "99672645",
   "metadata": {
    "execution": {
     "iopub.execute_input": "2024-02-18T19:06:04.117043Z",
     "iopub.status.busy": "2024-02-18T19:06:04.116431Z",
     "iopub.status.idle": "2024-02-18T19:06:04.611877Z",
     "shell.execute_reply": "2024-02-18T19:06:04.610740Z"
    },
    "papermill": {
     "duration": 0.510536,
     "end_time": "2024-02-18T19:06:04.614920",
     "exception": false,
     "start_time": "2024-02-18T19:06:04.104384",
     "status": "completed"
    },
    "tags": []
   },
   "outputs": [
    {
     "data": {
      "text/plain": [
       "<Axes: >"
      ]
     },
     "execution_count": 20,
     "metadata": {},
     "output_type": "execute_result"
    },
    {
     "data": {
      "image/png": "[encoded data removed]",
      "text/plain": [
       "<Figure size 640x480 with 2 Axes>"
      ]
     },
     "metadata": {},
     "output_type": "display_data"
    }
   ],
   "source": [
    "sns.heatmap(courses_results_one_hot.corr())"
   ]
  },
  {
   "cell_type": "code",
   "execution_count": 21,
   "id": "e982bbcd",
   "metadata": {
    "execution": {
     "iopub.execute_input": "2024-02-18T19:06:04.645403Z",
     "iopub.status.busy": "2024-02-18T19:06:04.645066Z",
     "iopub.status.idle": "2024-02-18T19:06:04.664274Z",
     "shell.execute_reply": "2024-02-18T19:06:04.663141Z"
    },
    "papermill": {
     "duration": 0.033913,
     "end_time": "2024-02-18T19:06:04.666416",
     "exception": false,
     "start_time": "2024-02-18T19:06:04.632503",
     "status": "completed"
    },
    "tags": []
   },
   "outputs": [
    {
     "data": {
      "text/plain": [
       "code_module  code_presentation\n",
       "AAA          2013J                68.153894\n",
       "             2014J                67.584464\n",
       "BBB          2013B                70.474208\n",
       "             2013J                70.632101\n",
       "             2014B                71.238894\n",
       "             2014J                66.807108\n",
       "CCC          2014B                61.452281\n",
       "             2014J                66.593082\n",
       "DDD          2013B                60.314327\n",
       "             2013J                64.555416\n",
       "             2014B                64.927916\n",
       "             2014J                65.917027\n",
       "EEE          2013J                79.057847\n",
       "             2014B                77.776581\n",
       "             2014J                80.522115\n",
       "FFF          2013B                73.683137\n",
       "             2013J                71.920616\n",
       "             2014B                72.226204\n",
       "             2014J                74.078956\n",
       "Name: score, dtype: float64"
      ]
     },
     "execution_count": 21,
     "metadata": {},
     "output_type": "execute_result"
    }
   ],
   "source": [
    "courses_results = courses_results.drop(courses_results[courses_results.code_module == 'GGG'].index)\n",
    "courses_results.groupby(['code_module', 'code_presentation'])['score'].mean()"
   ]
  },
  {
   "cell_type": "code",
   "execution_count": 22,
   "id": "a63f4995",
   "metadata": {
    "execution": {
     "iopub.execute_input": "2024-02-18T19:06:04.690978Z",
     "iopub.status.busy": "2024-02-18T19:06:04.690623Z",
     "iopub.status.idle": "2024-02-18T19:06:04.990007Z",
     "shell.execute_reply": "2024-02-18T19:06:04.988862Z"
    },
    "papermill": {
     "duration": 0.314206,
     "end_time": "2024-02-18T19:06:04.992305",
     "exception": false,
     "start_time": "2024-02-18T19:06:04.678099",
     "status": "completed"
    },
    "tags": []
   },
   "outputs": [
    {
     "data": {
      "text/plain": [
       "<Axes: title={'center': 'score'}, xlabel='code_module'>"
      ]
     },
     "execution_count": 22,
     "metadata": {},
     "output_type": "execute_result"
    },
    {
     "data": {
      "image/png": "[encoded data removed]",
      "text/plain": [
       "<Figure size 640x480 with 1 Axes>"
      ]
     },
     "metadata": {},
     "output_type": "display_data"
    }
   ],
   "source": [
    "courses_results.boxplot(column=['score'], by='code_module')"
   ]
  },
  {
   "cell_type": "code",
   "execution_count": 23,
   "id": "c1d6ebc9",
   "metadata": {
    "execution": {
     "iopub.execute_input": "2024-02-18T19:06:05.018611Z",
     "iopub.status.busy": "2024-02-18T19:06:05.018265Z",
     "iopub.status.idle": "2024-02-18T19:06:06.105740Z",
     "shell.execute_reply": "2024-02-18T19:06:06.104905Z"
    },
    "papermill": {
     "duration": 1.103014,
     "end_time": "2024-02-18T19:06:06.107727",
     "exception": false,
     "start_time": "2024-02-18T19:06:05.004713",
     "status": "completed"
    },
    "tags": []
   },
   "outputs": [
    {
     "name": "stdout",
     "output_type": "stream",
     "text": [
      "AAA\n",
      "BBB\n",
      "CCC\n",
      "DDD\n",
      "EEE\n",
      "FFF\n"
     ]
    },
    {
     "data": {
      "image/png": "[encoded data removed]",
      "text/plain": [
       "<Figure size 1000x600 with 6 Axes>"
      ]
     },
     "metadata": {},
     "output_type": "display_data"
    }
   ],
   "source": [
    "i, j = 0, 0\n",
    "fig, ax = plt.subplots(2, 3, figsize=(10, 6))\n",
    "\n",
    "for c in courses['code_module'].unique()[:6]:\n",
    "    print(c)\n",
    "    temp_df = courses_results.loc[(courses_results['code_module'] == c)]\n",
    "    ax[j][i].set_ylim([-10, 110])\n",
    "    temp_df.boxplot(column=['score'], by='code_presentation', ax=ax[j][i])\n",
    "\n",
    "    i +=1\n",
    "    if i == 3:\n",
    "        i = 0\n",
    "        j+=1\n",
    "fig.tight_layout()        \n",
    "plt.show()"
   ]
  },
  {
   "cell_type": "markdown",
   "id": "893331f6",
   "metadata": {
    "papermill": {
     "duration": 0.012907,
     "end_time": "2024-02-18T19:06:06.134258",
     "exception": false,
     "start_time": "2024-02-18T19:06:06.121351",
     "status": "completed"
    },
    "tags": []
   },
   "source": [
    "# Registration"
   ]
  },
  {
   "cell_type": "code",
   "execution_count": 24,
   "id": "f2f65260",
   "metadata": {
    "execution": {
     "iopub.execute_input": "2024-02-18T19:06:06.162729Z",
     "iopub.status.busy": "2024-02-18T19:06:06.161781Z",
     "iopub.status.idle": "2024-02-18T19:06:06.174572Z",
     "shell.execute_reply": "2024-02-18T19:06:06.173560Z"
    },
    "papermill": {
     "duration": 0.029161,
     "end_time": "2024-02-18T19:06:06.176670",
     "exception": false,
     "start_time": "2024-02-18T19:06:06.147509",
     "status": "completed"
    },
    "tags": []
   },
   "outputs": [
    {
     "name": "stdout",
     "output_type": "stream",
     "text": [
      "(32593, 5)\n"
     ]
    },
    {
     "data": {
      "text/html": [
       "<div>\n",
       "<style scoped>\n",
       "    .dataframe tbody tr th:only-of-type {\n",
       "        vertical-align: middle;\n",
       "    }\n",
       "\n",
       "    .dataframe tbody tr th {\n",
       "        vertical-align: top;\n",
       "    }\n",
       "\n",
       "    .dataframe thead th {\n",
       "        text-align: right;\n",
       "    }\n",
       "</style>\n",
       "<table border=\"1\" class=\"dataframe\">\n",
       "  <thead>\n",
       "    <tr style=\"text-align: right;\">\n",
       "      <th></th>\n",
       "      <th>code_module</th>\n",
       "      <th>code_presentation</th>\n",
       "      <th>id_student</th>\n",
       "      <th>date_registration</th>\n",
       "      <th>date_unregistration</th>\n",
       "    </tr>\n",
       "  </thead>\n",
       "  <tbody>\n",
       "    <tr>\n",
       "      <th>0</th>\n",
       "      <td>AAA</td>\n",
       "      <td>2013J</td>\n",
       "      <td>11391</td>\n",
       "      <td>-159.0</td>\n",
       "      <td>NaN</td>\n",
       "    </tr>\n",
       "    <tr>\n",
       "      <th>1</th>\n",
       "      <td>AAA</td>\n",
       "      <td>2013J</td>\n",
       "      <td>28400</td>\n",
       "      <td>-53.0</td>\n",
       "      <td>NaN</td>\n",
       "    </tr>\n",
       "    <tr>\n",
       "      <th>2</th>\n",
       "      <td>AAA</td>\n",
       "      <td>2013J</td>\n",
       "      <td>30268</td>\n",
       "      <td>-92.0</td>\n",
       "      <td>12.0</td>\n",
       "    </tr>\n",
       "    <tr>\n",
       "      <th>3</th>\n",
       "      <td>AAA</td>\n",
       "      <td>2013J</td>\n",
       "      <td>31604</td>\n",
       "      <td>-52.0</td>\n",
       "      <td>NaN</td>\n",
       "    </tr>\n",
       "    <tr>\n",
       "      <th>4</th>\n",
       "      <td>AAA</td>\n",
       "      <td>2013J</td>\n",
       "      <td>32885</td>\n",
       "      <td>-176.0</td>\n",
       "      <td>NaN</td>\n",
       "    </tr>\n",
       "  </tbody>\n",
       "</table>\n",
       "</div>"
      ],
      "text/plain": [
       "  code_module code_presentation  id_student  date_registration  \\\n",
       "0         AAA             2013J       11391             -159.0   \n",
       "1         AAA             2013J       28400              -53.0   \n",
       "2         AAA             2013J       30268              -92.0   \n",
       "3         AAA             2013J       31604              -52.0   \n",
       "4         AAA             2013J       32885             -176.0   \n",
       "\n",
       "   date_unregistration  \n",
       "0                  NaN  \n",
       "1                  NaN  \n",
       "2                 12.0  \n",
       "3                  NaN  \n",
       "4                  NaN  "
      ]
     },
     "execution_count": 24,
     "metadata": {},
     "output_type": "execute_result"
    }
   ],
   "source": [
    "print(registration.shape)\n",
    "registration.head()"
   ]
  },
  {
   "cell_type": "code",
   "execution_count": 25,
   "id": "caef0dcc",
   "metadata": {
    "execution": {
     "iopub.execute_input": "2024-02-18T19:06:06.205458Z",
     "iopub.status.busy": "2024-02-18T19:06:06.204777Z",
     "iopub.status.idle": "2024-02-18T19:06:06.216316Z",
     "shell.execute_reply": "2024-02-18T19:06:06.215361Z"
    },
    "papermill": {
     "duration": 0.02811,
     "end_time": "2024-02-18T19:06:06.218255",
     "exception": false,
     "start_time": "2024-02-18T19:06:06.190145",
     "status": "completed"
    },
    "tags": []
   },
   "outputs": [
    {
     "data": {
      "text/plain": [
       "code_module                0\n",
       "code_presentation          0\n",
       "id_student                 0\n",
       "date_registration         45\n",
       "date_unregistration    22521\n",
       "dtype: int64"
      ]
     },
     "execution_count": 25,
     "metadata": {},
     "output_type": "execute_result"
    }
   ],
   "source": [
    "registration.isna().sum()"
   ]
  },
  {
   "cell_type": "code",
   "execution_count": 26,
   "id": "1cd1f517",
   "metadata": {
    "execution": {
     "iopub.execute_input": "2024-02-18T19:06:06.247907Z",
     "iopub.status.busy": "2024-02-18T19:06:06.247548Z",
     "iopub.status.idle": "2024-02-18T19:06:06.267605Z",
     "shell.execute_reply": "2024-02-18T19:06:06.266630Z"
    },
    "papermill": {
     "duration": 0.036987,
     "end_time": "2024-02-18T19:06:06.269739",
     "exception": false,
     "start_time": "2024-02-18T19:06:06.232752",
     "status": "completed"
    },
    "tags": []
   },
   "outputs": [
    {
     "name": "stdout",
     "output_type": "stream",
     "text": [
      "(25843, 14)\n"
     ]
    },
    {
     "data": {
      "text/html": [
       "<div>\n",
       "<style scoped>\n",
       "    .dataframe tbody tr th:only-of-type {\n",
       "        vertical-align: middle;\n",
       "    }\n",
       "\n",
       "    .dataframe tbody tr th {\n",
       "        vertical-align: top;\n",
       "    }\n",
       "\n",
       "    .dataframe thead th {\n",
       "        text-align: right;\n",
       "    }\n",
       "</style>\n",
       "<table border=\"1\" class=\"dataframe\">\n",
       "  <thead>\n",
       "    <tr style=\"text-align: right;\">\n",
       "      <th></th>\n",
       "      <th>code_module</th>\n",
       "      <th>code_presentation</th>\n",
       "      <th>id_student</th>\n",
       "      <th>gender</th>\n",
       "      <th>region</th>\n",
       "      <th>highest_education</th>\n",
       "      <th>imd_band</th>\n",
       "      <th>age_band</th>\n",
       "      <th>num_of_prev_attempts</th>\n",
       "      <th>studied_credits</th>\n",
       "      <th>disability</th>\n",
       "      <th>final_result</th>\n",
       "      <th>score</th>\n",
       "      <th>grade</th>\n",
       "    </tr>\n",
       "  </thead>\n",
       "  <tbody>\n",
       "    <tr>\n",
       "      <th>0</th>\n",
       "      <td>AAA</td>\n",
       "      <td>2013J</td>\n",
       "      <td>11391</td>\n",
       "      <td>M</td>\n",
       "      <td>East Anglian Region</td>\n",
       "      <td>HE Qualification</td>\n",
       "      <td>90-100%</td>\n",
       "      <td>55&lt;=</td>\n",
       "      <td>0</td>\n",
       "      <td>240</td>\n",
       "      <td>N</td>\n",
       "      <td>Pass</td>\n",
       "      <td>82.4</td>\n",
       "      <td>A-</td>\n",
       "    </tr>\n",
       "    <tr>\n",
       "      <th>1</th>\n",
       "      <td>AAA</td>\n",
       "      <td>2013J</td>\n",
       "      <td>28400</td>\n",
       "      <td>F</td>\n",
       "      <td>Scotland</td>\n",
       "      <td>HE Qualification</td>\n",
       "      <td>20-30%</td>\n",
       "      <td>35-55</td>\n",
       "      <td>0</td>\n",
       "      <td>60</td>\n",
       "      <td>N</td>\n",
       "      <td>Pass</td>\n",
       "      <td>65.4</td>\n",
       "      <td>C</td>\n",
       "    </tr>\n",
       "    <tr>\n",
       "      <th>2</th>\n",
       "      <td>AAA</td>\n",
       "      <td>2013J</td>\n",
       "      <td>31604</td>\n",
       "      <td>F</td>\n",
       "      <td>South East Region</td>\n",
       "      <td>A Level or Equivalent</td>\n",
       "      <td>50-60%</td>\n",
       "      <td>35-55</td>\n",
       "      <td>0</td>\n",
       "      <td>60</td>\n",
       "      <td>N</td>\n",
       "      <td>Pass</td>\n",
       "      <td>76.3</td>\n",
       "      <td>B</td>\n",
       "    </tr>\n",
       "    <tr>\n",
       "      <th>3</th>\n",
       "      <td>AAA</td>\n",
       "      <td>2013J</td>\n",
       "      <td>32885</td>\n",
       "      <td>F</td>\n",
       "      <td>West Midlands Region</td>\n",
       "      <td>Lower Than A Level</td>\n",
       "      <td>50-60%</td>\n",
       "      <td>0-35</td>\n",
       "      <td>0</td>\n",
       "      <td>60</td>\n",
       "      <td>N</td>\n",
       "      <td>Pass</td>\n",
       "      <td>55.0</td>\n",
       "      <td>D</td>\n",
       "    </tr>\n",
       "    <tr>\n",
       "      <th>4</th>\n",
       "      <td>AAA</td>\n",
       "      <td>2013J</td>\n",
       "      <td>38053</td>\n",
       "      <td>M</td>\n",
       "      <td>Wales</td>\n",
       "      <td>A Level or Equivalent</td>\n",
       "      <td>80-90%</td>\n",
       "      <td>35-55</td>\n",
       "      <td>0</td>\n",
       "      <td>60</td>\n",
       "      <td>N</td>\n",
       "      <td>Pass</td>\n",
       "      <td>66.9</td>\n",
       "      <td>C</td>\n",
       "    </tr>\n",
       "    <tr>\n",
       "      <th>...</th>\n",
       "      <td>...</td>\n",
       "      <td>...</td>\n",
       "      <td>...</td>\n",
       "      <td>...</td>\n",
       "      <td>...</td>\n",
       "      <td>...</td>\n",
       "      <td>...</td>\n",
       "      <td>...</td>\n",
       "      <td>...</td>\n",
       "      <td>...</td>\n",
       "      <td>...</td>\n",
       "      <td>...</td>\n",
       "      <td>...</td>\n",
       "      <td>...</td>\n",
       "    </tr>\n",
       "    <tr>\n",
       "      <th>25838</th>\n",
       "      <td>GGG</td>\n",
       "      <td>2014J</td>\n",
       "      <td>2620947</td>\n",
       "      <td>F</td>\n",
       "      <td>Scotland</td>\n",
       "      <td>A Level or Equivalent</td>\n",
       "      <td>80-90%</td>\n",
       "      <td>0-35</td>\n",
       "      <td>0</td>\n",
       "      <td>30</td>\n",
       "      <td>Y</td>\n",
       "      <td>Distinction</td>\n",
       "      <td>NaN</td>\n",
       "      <td></td>\n",
       "    </tr>\n",
       "    <tr>\n",
       "      <th>25839</th>\n",
       "      <td>GGG</td>\n",
       "      <td>2014J</td>\n",
       "      <td>2645731</td>\n",
       "      <td>F</td>\n",
       "      <td>East Anglian Region</td>\n",
       "      <td>Lower Than A Level</td>\n",
       "      <td>40-50%</td>\n",
       "      <td>35-55</td>\n",
       "      <td>0</td>\n",
       "      <td>30</td>\n",
       "      <td>N</td>\n",
       "      <td>Distinction</td>\n",
       "      <td>NaN</td>\n",
       "      <td></td>\n",
       "    </tr>\n",
       "    <tr>\n",
       "      <th>25840</th>\n",
       "      <td>GGG</td>\n",
       "      <td>2014J</td>\n",
       "      <td>2648187</td>\n",
       "      <td>F</td>\n",
       "      <td>South Region</td>\n",
       "      <td>A Level or Equivalent</td>\n",
       "      <td>20-30%</td>\n",
       "      <td>0-35</td>\n",
       "      <td>0</td>\n",
       "      <td>30</td>\n",
       "      <td>Y</td>\n",
       "      <td>Pass</td>\n",
       "      <td>NaN</td>\n",
       "      <td></td>\n",
       "    </tr>\n",
       "    <tr>\n",
       "      <th>25841</th>\n",
       "      <td>GGG</td>\n",
       "      <td>2014J</td>\n",
       "      <td>2679821</td>\n",
       "      <td>F</td>\n",
       "      <td>South East Region</td>\n",
       "      <td>Lower Than A Level</td>\n",
       "      <td>90-100%</td>\n",
       "      <td>35-55</td>\n",
       "      <td>0</td>\n",
       "      <td>30</td>\n",
       "      <td>N</td>\n",
       "      <td>Withdrawn</td>\n",
       "      <td>NaN</td>\n",
       "      <td></td>\n",
       "    </tr>\n",
       "    <tr>\n",
       "      <th>25842</th>\n",
       "      <td>GGG</td>\n",
       "      <td>2014J</td>\n",
       "      <td>2684003</td>\n",
       "      <td>F</td>\n",
       "      <td>Yorkshire Region</td>\n",
       "      <td>HE Qualification</td>\n",
       "      <td>50-60%</td>\n",
       "      <td>35-55</td>\n",
       "      <td>0</td>\n",
       "      <td>30</td>\n",
       "      <td>N</td>\n",
       "      <td>Distinction</td>\n",
       "      <td>NaN</td>\n",
       "      <td></td>\n",
       "    </tr>\n",
       "  </tbody>\n",
       "</table>\n",
       "<p>25843 rows × 14 columns</p>\n",
       "</div>"
      ],
      "text/plain": [
       "      code_module code_presentation  id_student gender                region  \\\n",
       "0             AAA             2013J       11391      M   East Anglian Region   \n",
       "1             AAA             2013J       28400      F              Scotland   \n",
       "2             AAA             2013J       31604      F     South East Region   \n",
       "3             AAA             2013J       32885      F  West Midlands Region   \n",
       "4             AAA             2013J       38053      M                 Wales   \n",
       "...           ...               ...         ...    ...                   ...   \n",
       "25838         GGG             2014J     2620947      F              Scotland   \n",
       "25839         GGG             2014J     2645731      F   East Anglian Region   \n",
       "25840         GGG             2014J     2648187      F          South Region   \n",
       "25841         GGG             2014J     2679821      F     South East Region   \n",
       "25842         GGG             2014J     2684003      F      Yorkshire Region   \n",
       "\n",
       "           highest_education imd_band age_band  num_of_prev_attempts  \\\n",
       "0           HE Qualification  90-100%     55<=                     0   \n",
       "1           HE Qualification   20-30%    35-55                     0   \n",
       "2      A Level or Equivalent   50-60%    35-55                     0   \n",
       "3         Lower Than A Level   50-60%     0-35                     0   \n",
       "4      A Level or Equivalent   80-90%    35-55                     0   \n",
       "...                      ...      ...      ...                   ...   \n",
       "25838  A Level or Equivalent   80-90%     0-35                     0   \n",
       "25839     Lower Than A Level   40-50%    35-55                     0   \n",
       "25840  A Level or Equivalent   20-30%     0-35                     0   \n",
       "25841     Lower Than A Level  90-100%    35-55                     0   \n",
       "25842       HE Qualification   50-60%    35-55                     0   \n",
       "\n",
       "       studied_credits disability final_result  score grade  \n",
       "0                  240          N         Pass   82.4    A-  \n",
       "1                   60          N         Pass   65.4     C  \n",
       "2                   60          N         Pass   76.3     B  \n",
       "3                   60          N         Pass   55.0     D  \n",
       "4                   60          N         Pass   66.9     C  \n",
       "...                ...        ...          ...    ...   ...  \n",
       "25838               30          Y  Distinction    NaN        \n",
       "25839               30          N  Distinction    NaN        \n",
       "25840               30          Y         Pass    NaN        \n",
       "25841               30          N    Withdrawn    NaN        \n",
       "25842               30          N  Distinction    NaN        \n",
       "\n",
       "[25843 rows x 14 columns]"
      ]
     },
     "execution_count": 26,
     "metadata": {},
     "output_type": "execute_result"
    }
   ],
   "source": [
    "print(student_info.shape)\n",
    "student_info"
   ]
  },
  {
   "cell_type": "code",
   "execution_count": 27,
   "id": "ed1ada63",
   "metadata": {
    "execution": {
     "iopub.execute_input": "2024-02-18T19:06:06.299848Z",
     "iopub.status.busy": "2024-02-18T19:06:06.299522Z",
     "iopub.status.idle": "2024-02-18T19:06:06.367930Z",
     "shell.execute_reply": "2024-02-18T19:06:06.367076Z"
    },
    "papermill": {
     "duration": 0.086054,
     "end_time": "2024-02-18T19:06:06.369969",
     "exception": false,
     "start_time": "2024-02-18T19:06:06.283915",
     "status": "completed"
    },
    "tags": []
   },
   "outputs": [
    {
     "data": {
      "text/html": [
       "<div>\n",
       "<style scoped>\n",
       "    .dataframe tbody tr th:only-of-type {\n",
       "        vertical-align: middle;\n",
       "    }\n",
       "\n",
       "    .dataframe tbody tr th {\n",
       "        vertical-align: top;\n",
       "    }\n",
       "\n",
       "    .dataframe thead th {\n",
       "        text-align: right;\n",
       "    }\n",
       "</style>\n",
       "<table border=\"1\" class=\"dataframe\">\n",
       "  <thead>\n",
       "    <tr style=\"text-align: right;\">\n",
       "      <th></th>\n",
       "      <th>date_registration</th>\n",
       "      <th>date_unregistration</th>\n",
       "      <th>score</th>\n",
       "    </tr>\n",
       "  </thead>\n",
       "  <tbody>\n",
       "    <tr>\n",
       "      <th>0</th>\n",
       "      <td>-159.0</td>\n",
       "      <td>NaN</td>\n",
       "      <td>82.400000</td>\n",
       "    </tr>\n",
       "    <tr>\n",
       "      <th>1</th>\n",
       "      <td>-53.0</td>\n",
       "      <td>NaN</td>\n",
       "      <td>65.400000</td>\n",
       "    </tr>\n",
       "    <tr>\n",
       "      <th>2</th>\n",
       "      <td>-92.0</td>\n",
       "      <td>12.0</td>\n",
       "      <td>NaN</td>\n",
       "    </tr>\n",
       "    <tr>\n",
       "      <th>3</th>\n",
       "      <td>-52.0</td>\n",
       "      <td>NaN</td>\n",
       "      <td>76.300000</td>\n",
       "    </tr>\n",
       "    <tr>\n",
       "      <th>4</th>\n",
       "      <td>-176.0</td>\n",
       "      <td>NaN</td>\n",
       "      <td>55.000000</td>\n",
       "    </tr>\n",
       "    <tr>\n",
       "      <th>...</th>\n",
       "      <td>...</td>\n",
       "      <td>...</td>\n",
       "      <td>...</td>\n",
       "    </tr>\n",
       "    <tr>\n",
       "      <th>30054</th>\n",
       "      <td>-78.0</td>\n",
       "      <td>-12.0</td>\n",
       "      <td>NaN</td>\n",
       "    </tr>\n",
       "    <tr>\n",
       "      <th>30055</th>\n",
       "      <td>-72.0</td>\n",
       "      <td>NaN</td>\n",
       "      <td>89.333333</td>\n",
       "    </tr>\n",
       "    <tr>\n",
       "      <th>30056</th>\n",
       "      <td>-81.0</td>\n",
       "      <td>137.0</td>\n",
       "      <td>48.000000</td>\n",
       "    </tr>\n",
       "    <tr>\n",
       "      <th>30057</th>\n",
       "      <td>-32.0</td>\n",
       "      <td>NaN</td>\n",
       "      <td>84.250000</td>\n",
       "    </tr>\n",
       "    <tr>\n",
       "      <th>30058</th>\n",
       "      <td>NaN</td>\n",
       "      <td>9.0</td>\n",
       "      <td>NaN</td>\n",
       "    </tr>\n",
       "  </tbody>\n",
       "</table>\n",
       "<p>30059 rows × 3 columns</p>\n",
       "</div>"
      ],
      "text/plain": [
       "       date_registration  date_unregistration      score\n",
       "0                 -159.0                  NaN  82.400000\n",
       "1                  -53.0                  NaN  65.400000\n",
       "2                  -92.0                 12.0        NaN\n",
       "3                  -52.0                  NaN  76.300000\n",
       "4                 -176.0                  NaN  55.000000\n",
       "...                  ...                  ...        ...\n",
       "30054              -78.0                -12.0        NaN\n",
       "30055              -72.0                  NaN  89.333333\n",
       "30056              -81.0                137.0  48.000000\n",
       "30057              -32.0                  NaN  84.250000\n",
       "30058                NaN                  9.0        NaN\n",
       "\n",
       "[30059 rows x 3 columns]"
      ]
     },
     "execution_count": 27,
     "metadata": {},
     "output_type": "execute_result"
    }
   ],
   "source": [
    "student_info_registration = pd.merge(registration, student_info, on=['id_student', 'code_module', 'code_presentation'], how='left')\n",
    "\n",
    "student_info_registration = student_info_registration.filter(['code_module','code_presentation', 'id_student', 'date_registration','date_unregistration', 'score'], axis=1)\n",
    "\n",
    "\n",
    "student_info_registration = student_info_registration.drop(student_info_registration[student_info_registration.code_module == 'GGG'].index)\n",
    "student_registration_score = student_info_registration.filter(['date_registration','date_unregistration', 'score'], axis=1)\n",
    "\n",
    "student_registration_score"
   ]
  },
  {
   "cell_type": "code",
   "execution_count": 28,
   "id": "aabab8dd",
   "metadata": {
    "execution": {
     "iopub.execute_input": "2024-02-18T19:06:06.399847Z",
     "iopub.status.busy": "2024-02-18T19:06:06.399207Z",
     "iopub.status.idle": "2024-02-18T19:06:06.640404Z",
     "shell.execute_reply": "2024-02-18T19:06:06.639323Z"
    },
    "papermill": {
     "duration": 0.258443,
     "end_time": "2024-02-18T19:06:06.642654",
     "exception": false,
     "start_time": "2024-02-18T19:06:06.384211",
     "status": "completed"
    },
    "tags": []
   },
   "outputs": [
    {
     "data": {
      "text/plain": [
       "<Axes: >"
      ]
     },
     "execution_count": 28,
     "metadata": {},
     "output_type": "execute_result"
    },
    {
     "data": {
      "image/png": "[encoded data removed]",
      "text/plain": [
       "<Figure size 640x480 with 1 Axes>"
      ]
     },
     "metadata": {},
     "output_type": "display_data"
    }
   ],
   "source": [
    "student_registration_score.boxplot()"
   ]
  },
  {
   "cell_type": "code",
   "execution_count": 29,
   "id": "38a7cf35",
   "metadata": {
    "execution": {
     "iopub.execute_input": "2024-02-18T19:06:06.674485Z",
     "iopub.status.busy": "2024-02-18T19:06:06.674112Z",
     "iopub.status.idle": "2024-02-18T19:06:06.893140Z",
     "shell.execute_reply": "2024-02-18T19:06:06.892009Z"
    },
    "papermill": {
     "duration": 0.237892,
     "end_time": "2024-02-18T19:06:06.895387",
     "exception": false,
     "start_time": "2024-02-18T19:06:06.657495",
     "status": "completed"
    },
    "tags": []
   },
   "outputs": [
    {
     "data": {
      "text/plain": [
       "<Axes: >"
      ]
     },
     "execution_count": 29,
     "metadata": {},
     "output_type": "execute_result"
    },
    {
     "data": {
      "image/png": "[encoded data removed]",
      "text/plain": [
       "<Figure size 640x480 with 2 Axes>"
      ]
     },
     "metadata": {},
     "output_type": "display_data"
    }
   ],
   "source": [
    "sns.heatmap(student_registration_score.corr())"
   ]
  },
  {
   "cell_type": "code",
   "execution_count": 30,
   "id": "6a27017e",
   "metadata": {
    "execution": {
     "iopub.execute_input": "2024-02-18T19:06:06.927190Z",
     "iopub.status.busy": "2024-02-18T19:06:06.926819Z",
     "iopub.status.idle": "2024-02-18T19:06:06.937044Z",
     "shell.execute_reply": "2024-02-18T19:06:06.936087Z"
    },
    "papermill": {
     "duration": 0.028644,
     "end_time": "2024-02-18T19:06:06.939169",
     "exception": false,
     "start_time": "2024-02-18T19:06:06.910525",
     "status": "completed"
    },
    "tags": []
   },
   "outputs": [
    {
     "data": {
      "text/plain": [
       "(-102.0, 72.0, -30.0, 78.0)"
      ]
     },
     "execution_count": 30,
     "metadata": {},
     "output_type": "execute_result"
    }
   ],
   "source": [
    "Q1 = student_registration_score['date_registration'].quantile(0.25)\n",
    "Q3 = student_registration_score['date_registration'].quantile(0.75)\n",
    "IQR = Q3 - Q1    #IQR is interquartile range. \n",
    "Q1, IQR, Q3, Q3 + 1.5 *IQR"
   ]
  },
  {
   "cell_type": "code",
   "execution_count": 31,
   "id": "054b2737",
   "metadata": {
    "execution": {
     "iopub.execute_input": "2024-02-18T19:06:06.971844Z",
     "iopub.status.busy": "2024-02-18T19:06:06.971460Z",
     "iopub.status.idle": "2024-02-18T19:06:06.985765Z",
     "shell.execute_reply": "2024-02-18T19:06:06.983518Z"
    },
    "papermill": {
     "duration": 0.033371,
     "end_time": "2024-02-18T19:06:06.987905",
     "exception": false,
     "start_time": "2024-02-18T19:06:06.954534",
     "status": "completed"
    },
    "tags": []
   },
   "outputs": [
    {
     "data": {
      "text/html": [
       "<div>\n",
       "<style scoped>\n",
       "    .dataframe tbody tr th:only-of-type {\n",
       "        vertical-align: middle;\n",
       "    }\n",
       "\n",
       "    .dataframe tbody tr th {\n",
       "        vertical-align: top;\n",
       "    }\n",
       "\n",
       "    .dataframe thead th {\n",
       "        text-align: right;\n",
       "    }\n",
       "</style>\n",
       "<table border=\"1\" class=\"dataframe\">\n",
       "  <thead>\n",
       "    <tr style=\"text-align: right;\">\n",
       "      <th></th>\n",
       "      <th>date_registration</th>\n",
       "      <th>date_unregistration</th>\n",
       "      <th>score</th>\n",
       "    </tr>\n",
       "  </thead>\n",
       "  <tbody>\n",
       "    <tr>\n",
       "      <th>4821</th>\n",
       "      <td>81.0</td>\n",
       "      <td>NaN</td>\n",
       "      <td>54.613636</td>\n",
       "    </tr>\n",
       "    <tr>\n",
       "      <th>13528</th>\n",
       "      <td>124.0</td>\n",
       "      <td>NaN</td>\n",
       "      <td>88.173469</td>\n",
       "    </tr>\n",
       "    <tr>\n",
       "      <th>14178</th>\n",
       "      <td>167.0</td>\n",
       "      <td>193.0</td>\n",
       "      <td>88.125000</td>\n",
       "    </tr>\n",
       "    <tr>\n",
       "      <th>14612</th>\n",
       "      <td>101.0</td>\n",
       "      <td>NaN</td>\n",
       "      <td>64.437500</td>\n",
       "    </tr>\n",
       "    <tr>\n",
       "      <th>16356</th>\n",
       "      <td>82.0</td>\n",
       "      <td>NaN</td>\n",
       "      <td>80.062500</td>\n",
       "    </tr>\n",
       "    <tr>\n",
       "      <th>21245</th>\n",
       "      <td>83.0</td>\n",
       "      <td>NaN</td>\n",
       "      <td>NaN</td>\n",
       "    </tr>\n",
       "    <tr>\n",
       "      <th>27908</th>\n",
       "      <td>110.0</td>\n",
       "      <td>NaN</td>\n",
       "      <td>NaN</td>\n",
       "    </tr>\n",
       "  </tbody>\n",
       "</table>\n",
       "</div>"
      ],
      "text/plain": [
       "       date_registration  date_unregistration      score\n",
       "4821                81.0                  NaN  54.613636\n",
       "13528              124.0                  NaN  88.173469\n",
       "14178              167.0                193.0  88.125000\n",
       "14612              101.0                  NaN  64.437500\n",
       "16356               82.0                  NaN  80.062500\n",
       "21245               83.0                  NaN        NaN\n",
       "27908              110.0                  NaN        NaN"
      ]
     },
     "execution_count": 31,
     "metadata": {},
     "output_type": "execute_result"
    }
   ],
   "source": [
    "t = student_registration_score.loc[student_registration_score['date_registration'] > Q3 + 1.5 *IQR] \n",
    "t"
   ]
  },
  {
   "cell_type": "code",
   "execution_count": 32,
   "id": "17324c4b",
   "metadata": {
    "execution": {
     "iopub.execute_input": "2024-02-18T19:06:07.021328Z",
     "iopub.status.busy": "2024-02-18T19:06:07.020482Z",
     "iopub.status.idle": "2024-02-18T19:06:07.242599Z",
     "shell.execute_reply": "2024-02-18T19:06:07.241604Z"
    },
    "papermill": {
     "duration": 0.240784,
     "end_time": "2024-02-18T19:06:07.244626",
     "exception": false,
     "start_time": "2024-02-18T19:06:07.003842",
     "status": "completed"
    },
    "tags": []
   },
   "outputs": [
    {
     "data": {
      "text/plain": [
       "<Axes: >"
      ]
     },
     "execution_count": 32,
     "metadata": {},
     "output_type": "execute_result"
    },
    {
     "data": {
      "image/png": "[encoded data removed]",
      "text/plain": [
       "<Figure size 640x480 with 1 Axes>"
      ]
     },
     "metadata": {},
     "output_type": "display_data"
    }
   ],
   "source": [
    "student_registration_score_null = student_registration_score.loc[student_registration_score['date_unregistration'].isna()] \n",
    "student_registration_score = student_registration_score.drop(student_registration_score[student_registration_score.date_unregistration <0].index)\n",
    "\n",
    "#student_registration_score = student_registration_score.loc[student_registration_score['date_unregistration'] > 0] \n",
    "student_registration_score = student_registration_score.loc[student_registration_score['date_unregistration'] < courses['module_presentation_length'].max()] \n",
    "student_registration_score = pd.concat([student_registration_score, student_registration_score_null], axis=0)\n",
    "student_registration_score = student_registration_score.loc[student_registration_score['date_registration'] < Q3 + 1.5 *IQR] \n",
    "\n",
    "student_registration_score.boxplot()"
   ]
  },
  {
   "cell_type": "code",
   "execution_count": 33,
   "id": "d9720ed0",
   "metadata": {
    "execution": {
     "iopub.execute_input": "2024-02-18T19:06:07.331770Z",
     "iopub.status.busy": "2024-02-18T19:06:07.331397Z",
     "iopub.status.idle": "2024-02-18T19:06:07.338699Z",
     "shell.execute_reply": "2024-02-18T19:06:07.338015Z"
    },
    "papermill": {
     "duration": 0.027397,
     "end_time": "2024-02-18T19:06:07.340444",
     "exception": false,
     "start_time": "2024-02-18T19:06:07.313047",
     "status": "completed"
    },
    "tags": []
   },
   "outputs": [
    {
     "data": {
      "text/plain": [
       "date_registration          0\n",
       "date_unregistration    20264\n",
       "score                   3955\n",
       "dtype: int64"
      ]
     },
     "execution_count": 33,
     "metadata": {},
     "output_type": "execute_result"
    }
   ],
   "source": [
    "student_registration_score.isna().sum()"
   ]
  },
  {
   "cell_type": "code",
   "execution_count": 34,
   "id": "e396e788",
   "metadata": {
    "execution": {
     "iopub.execute_input": "2024-02-18T19:06:07.374104Z",
     "iopub.status.busy": "2024-02-18T19:06:07.373435Z",
     "iopub.status.idle": "2024-02-18T19:06:07.585936Z",
     "shell.execute_reply": "2024-02-18T19:06:07.585100Z"
    },
    "papermill": {
     "duration": 0.231438,
     "end_time": "2024-02-18T19:06:07.587851",
     "exception": false,
     "start_time": "2024-02-18T19:06:07.356413",
     "status": "completed"
    },
    "tags": []
   },
   "outputs": [
    {
     "data": {
      "text/plain": [
       "<Axes: >"
      ]
     },
     "execution_count": 34,
     "metadata": {},
     "output_type": "execute_result"
    },
    {
     "data": {
      "image/png": "[encoded data removed]",
      "text/plain": [
       "<Figure size 640x480 with 2 Axes>"
      ]
     },
     "metadata": {},
     "output_type": "display_data"
    }
   ],
   "source": [
    "sns.heatmap(student_registration_score.corr())"
   ]
  }
 ],
 "metadata": {
  "kaggle": {
   "accelerator": "none",
   "dataSources": [
    {
     "datasetId": 70176,
     "sourceId": 145615,
     "sourceType": "datasetVersion"
    }
   ],
   "dockerImageVersionId": 30646,
   "isGpuEnabled": false,
   "isInternetEnabled": true,
   "language": "python",
   "sourceType": "notebook"
  },
  "kernelspec": {
   "display_name": "Python 3",
   "language": "python",
   "name": "python3"
  },
  "language_info": {
   "codemirror_mode": {
    "name": "ipython",
    "version": 3
   },
   "file_extension": ".py",
   "mimetype": "text/x-python",
   "name": "python",
   "nbconvert_exporter": "python",
   "pygments_lexer": "ipython3",
   "version": "3.10.13"
  },
  "papermill": {
   "default_parameters": {},
   "duration": 9.711327,
   "end_time": "2024-02-18T19:06:08.225289",
   "environment_variables": {},
   "exception": null,
   "input_path": "__notebook__.ipynb",
   "output_path": "__notebook__.ipynb",
   "parameters": {},
   "start_time": "2024-02-18T19:05:58.513962",
   "version": "2.5.0"
  }
 },
 "nbformat": 4,
 "nbformat_minor": 5
}
